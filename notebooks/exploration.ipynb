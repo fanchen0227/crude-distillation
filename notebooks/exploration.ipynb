{
 "cells": [
  {
   "cell_type": "code",
   "execution_count": 458,
   "id": "bf0a9b3d",
   "metadata": {},
   "outputs": [],
   "source": [
    "import requests\n",
    "import json\n",
    "\n",
    "from pandas_profiling import ProfileReport\n",
    "import pandas as pd\n",
    "import seaborn as sns\n",
    "import numpy as np\n",
    "import matplotlib.pyplot as plt\n",
    "import joblib\n",
    "\n",
    "from sklearn.model_selection import train_test_split\n",
    "from sklearn.linear_model import LinearRegression, Ridge\n",
    "from sklearn.ensemble import RandomForestRegressor\n",
    "from sklearn.model_selection import GridSearchCV\n",
    "from sklearn.metrics import mean_absolute_error, r2_score, mean_squared_error, mean_absolute_percentage_error"
   ]
  },
  {
   "cell_type": "markdown",
   "id": "792817ed",
   "metadata": {},
   "source": [
    "# 1. Problem description"
   ]
  },
  {
   "cell_type": "markdown",
   "id": "8a5650b3",
   "metadata": {},
   "source": []
  },
  {
   "cell_type": "markdown",
   "id": "141f4028",
   "metadata": {},
   "source": [
    "# 2. Data collection"
   ]
  },
  {
   "cell_type": "code",
   "execution_count": 85,
   "id": "6160024b",
   "metadata": {},
   "outputs": [],
   "source": [
    "url = \"\"\"\n",
    "https://crudemonitor.ca/api/json.php?crudes%5B0%5D=Federated&crudes%5B1%5D=Light+Smiley&crudes%5B2%5D=Peace&crudes%5B3%5D=Pembina&crudes%5B4%5D=Secure+Sask+Light&crudes%5B5%5D=Mixed+Sweet+Blend&crudes%5B6%5D=Rainbow&crudes%5B7%5D=Hardisty+Light&crudes%5B8%5D=Medium+Gibson+Sour&crudes%5B9%5D=Midale&crudes%5B10%5D=Peace+Pipe+Sour&crudes%5B11%5D=BC+Light&crudes%5B12%5D=Boundary+Lake&crudes%5B13%5D=Koch+Alberta&crudes%5B14%5D=Moose+Jaw+Tops&crudes%5B15%5D=Pembina+Light+Sour&crudes%5B16%5D=Conventional+Heavy&crudes%5B17%5D=Hardisty+Synthetic+Crude&crudes%5B18%5D=Light+Sour+Blend&crudes%5B19%5D=Medium+Sour+Blend&crudes%5B20%5D=Mixed+Sweet+Blend+%28Superior%29&crudes%5B21%5D=Premium+Conventional+Heavy&crudes%5B22%5D=Premium+Synthetic&crudes%5B23%5D=Synbit+Blend&crudes%5B24%5D=Synthetic+Sweet+Blend&crudes%5B25%5D=CNRL+Light+Sweet+Synthetic&crudes%5B26%5D=Husky+Synthetic+Blend&crudes%5B27%5D=Long+Lake+Light+Synthetic&crudes%5B28%5D=Premium+Albian+Synthetic&crudes%5B29%5D=Shell+Synthetic+Light&crudes%5B30%5D=Suncor+Synthetic+A&crudes%5B31%5D=Syncrude+Sweet+Premium&crudes%5B32%5D=Bow+River+North&crudes%5B33%5D=Bow+River+South&crudes%5B34%5D=Fosterton&crudes%5B35%5D=Lloyd+Blend&crudes%5B36%5D=Lloyd+Kerrobert&crudes%5B37%5D=Seal+Heavy&crudes%5B38%5D=Smiley-Coleville&crudes%5B39%5D=Wabasca+Heavy&crudes%5B40%5D=Western+Canadian+Blend&crudes%5B41%5D=Access+Western+Blend&crudes%5B42%5D=Borealis+Heavy+Blend&crudes%5B43%5D=Canadian+Natural+High+TAN&crudes%5B44%5D=Christina+Dilbit+Blend&crudes%5B45%5D=Cold+Lake&crudes%5B46%5D=Fort+Hills+Dilbit&crudes%5B47%5D=Kearl+Lake&crudes%5B48%5D=Leismer+Corner+Blend&crudes%5B49%5D=Surmont+Heavy+Dilbit&crudes%5B50%5D=Western+Canada+Dilbit&crudes%5B51%5D=Western+Canadian+Select&crudes%5B52%5D=Long+Lake+Heavy&crudes%5B53%5D=PetroChina+Blend&crudes%5B54%5D=Statoil+Cheecham+Synbit&crudes%5B55%5D=Surmont+Heavy+Blend&crudes%5B56%5D=Surmont+Mix+A&crudes%5B57%5D=Albian+Heavy+Synthetic&crudes%5B58%5D=Suncor+Synthetic+H&crudeProperties%5B0%5D=crudes-BA&crudeProperties%5B1%5D=crudes-LE&crudeProperties%5B2%5D=crudes-HTSD&date%5Bstart%5D=2013-01-01&date%5Bend%5D=2023-01-01\n",
    "\"\"\""
   ]
  },
  {
   "cell_type": "code",
   "execution_count": 86,
   "id": "7a3360f1",
   "metadata": {},
   "outputs": [],
   "source": [
    "r = requests.get(url)\n",
    "r_json = json.loads(r.text)\n",
    "df1 = pd.DataFrame(r_json)\n",
    "df1.Name.unique()"
   ]
  },
  {
   "cell_type": "code",
   "execution_count": 456,
   "id": "3d39ac57",
   "metadata": {},
   "outputs": [],
   "source": [
    "columns = ['Name', 'Batch', 'Sample Date (yyyy-mm-dd)', 'Location', 'Absolute Density (kg/m3)', 'Gravity (&degAPI)', \n",
    " 'Sulphur (wt%)', 'MCR (wt%)', 'Sediment (ppmw)', 'TAN (mgKOH/g)', 'Salt (ptb)', 'Nickel (mg/kg)', 'Vanadium (mg/kg)',\n",
    " 'C1 Methane (vol%)', 'C2 Ethane (vol%)', 'C3 Propane (vol%)', 'iC4 iso-Butane (vol%)', 'nC4 n-Butane (vol%)',\n",
    " 'iC5 iso-Pentane (vol%)', 'nC5 n-Pentane (vol%)', 'C6 Hexanes (vol%)', 'C7 Heptanes (vol%)', 'C8 Octanes (vol%)',\n",
    " 'C9 Nonanes (vol%)', 'C10 Decanes (vol%)', 'IBP', '5% Recovered', '10% Recovered', '15% Recovered', '20% Recovered', \n",
    " '25% Recovered', '30% Recovered', '35% Recovered', '40% Recovered', '45% Recovered', '50% Recovered', '55% Recovered',\n",
    " '60% Recovered', '65% Recovered', '70% Recovered', '75% Recovered', '80% Recovered', '85% Recovered', '90% Recovered',\n",
    " '95% Recovered', '99% Recovered']"
   ]
  },
  {
   "cell_type": "code",
   "execution_count": 457,
   "id": "20e8fd3a",
   "metadata": {},
   "outputs": [],
   "source": [
    "df1 = df1[columns]"
   ]
  },
  {
   "cell_type": "code",
   "execution_count": 461,
   "id": "78c2caf7",
   "metadata": {},
   "outputs": [
    {
     "data": {
      "application/vnd.jupyter.widget-view+json": {
       "model_id": "2c24691ef867446ca1b28084b7bfb1af",
       "version_major": 2,
       "version_minor": 0
      },
      "text/plain": [
       "Summarize dataset:   0%|          | 0/5 [00:00<?, ?it/s]"
      ]
     },
     "metadata": {},
     "output_type": "display_data"
    },
    {
     "data": {
      "application/vnd.jupyter.widget-view+json": {
       "model_id": "f7404649ef2449d4b2531dbbdd8b4ea5",
       "version_major": 2,
       "version_minor": 0
      },
      "text/plain": [
       "Generate report structure:   0%|          | 0/1 [00:00<?, ?it/s]"
      ]
     },
     "metadata": {},
     "output_type": "display_data"
    },
    {
     "data": {
      "application/vnd.jupyter.widget-view+json": {
       "model_id": "381428d6f6c24c10962c6fbe4c1ac111",
       "version_major": 2,
       "version_minor": 0
      },
      "text/plain": [
       "Render HTML:   0%|          | 0/1 [00:00<?, ?it/s]"
      ]
     },
     "metadata": {},
     "output_type": "display_data"
    },
    {
     "data": {
      "application/vnd.jupyter.widget-view+json": {
       "model_id": "e5f47483a6844f9b836d3ce4a498518a",
       "version_major": 2,
       "version_minor": 0
      },
      "text/plain": [
       "Export report to file:   0%|          | 0/1 [00:00<?, ?it/s]"
      ]
     },
     "metadata": {},
     "output_type": "display_data"
    }
   ],
   "source": [
    "profile = ProfileReport(df1)\n",
    "profile.to_file(\"your_report.html\")"
   ]
  },
  {
   "cell_type": "markdown",
   "id": "f4b80e0f",
   "metadata": {},
   "source": [
    "# 3. Data cleaning"
   ]
  },
  {
   "cell_type": "code",
   "execution_count": 432,
   "id": "066b81ca",
   "metadata": {},
   "outputs": [],
   "source": [
    "df2=df1.copy()\n",
    "# Convert sample data to datetime stamp\n",
    "df2.loc[:,\"Sample Date (yyyy-mm-dd)\"] = pd.to_datetime(df2[\"Sample Date (yyyy-mm-dd)\"])\n",
    "# Sort based on datetime\n",
    "df2 = df2.sort_values(\"Sample Date (yyyy-mm-dd)\", ascending=False)\n",
    "# Group by crude name and fill the missing data based on previous latest avilable data\n",
    "df3 = df2.groupby('Name').fillna(method='bfill', axis=0)\n",
    "df3['Name'] = df2['Name']"
   ]
  },
  {
   "cell_type": "code",
   "execution_count": 438,
   "id": "db1a6647",
   "metadata": {},
   "outputs": [],
   "source": [
    "# Get feature tables\n",
    "df_feature = df3[df3.columns[3:-101]]\n",
    "# Drop 'C1 Methane (vol%)' because all of the values are ND\n",
    "df_feature = df_feature.drop(columns=['C1 Methane (vol%)'])\n",
    "# Fill missing value with 0\n",
    "df_feature = df_feature.fillna(0)\n",
    "# Replace ND with 0 and convert columns into numerical features.\n",
    "df_feature = df_feature.applymap(lambda x: 0 if x == \"ND\" else float(x))"
   ]
  },
  {
   "cell_type": "code",
   "execution_count": 439,
   "id": "47920e3e",
   "metadata": {},
   "outputs": [],
   "source": [
    "df_latest = df_feature.copy()\n",
    "df_latest['Name'] = df3['Name']\n",
    "# Keep the most recent crude profile \n",
    "df_latest = df_latest.drop_duplicates(['Name'],keep='first')"
   ]
  },
  {
   "cell_type": "code",
   "execution_count": 435,
   "id": "32f40d4c",
   "metadata": {},
   "outputs": [
    {
     "data": {
      "text/plain": [
       "61"
      ]
     },
     "execution_count": 435,
     "metadata": {},
     "output_type": "execute_result"
    }
   ],
   "source": [
    "len(df_latest['Name'].unique())"
   ]
  },
  {
   "cell_type": "code",
   "execution_count": 440,
   "id": "c1b9f89d",
   "metadata": {},
   "outputs": [
    {
     "data": {
      "text/plain": [
       "array(['Pembina', 'Fort Hills Dilbit', 'Christina Dilbit Blend',\n",
       "       'Lloyd Kerrobert', 'Western Canadian Select',\n",
       "       'Albian Heavy Synthetic', 'Western Canada Dilbit',\n",
       "       'CNRL Light Sweet Synthetic', 'Suncor Synthetic A',\n",
       "       'Medium Gibson Sour', 'Access Western Blend', 'PetroChina Blend',\n",
       "       'Surmont Heavy Dilbit', 'Kearl Lake', 'Mixed Sweet Blend',\n",
       "       'Bow River North', 'Syncrude Sweet Premium', 'Wabasca Heavy',\n",
       "       'Fosterton', 'Rainbow', 'Premium Albian Synthetic', 'Peace',\n",
       "       'Light Smiley', 'Canadian Natural High TAN', 'Secure Sask Light',\n",
       "       'Lloyd Blend', 'Cold Lake', 'Smiley-Coleville', 'Seal Heavy',\n",
       "       'Midale', 'Premium Conventional Heavy', 'Synthetic Sweet Blend',\n",
       "       'Hardisty Synthetic Crude', 'Medium Sour Blend',\n",
       "       'Conventional Heavy', 'Light Sour Blend', 'Premium Synthetic',\n",
       "       'Moose Jaw Tops', 'Mixed Sweet Blend (Superior)',\n",
       "       'Suncor Synthetic H', 'Surmont Mix A', 'Borealis Heavy Blend',\n",
       "       'Federated', 'Husky Synthetic Blend', 'Peace Pipe Sour',\n",
       "       'Bow River South', 'Koch Alberta', 'Western Canadian Blend',\n",
       "       'Hardisty Light', 'Synbit Blend', 'Pembina Light Sour',\n",
       "       'LLoyd Blend', 'Surmont Heavy Blend', 'Leismer Corner Blend',\n",
       "       'Long Lake Heavy', 'Boundary Lake', 'Statoil Cheecham Synbit',\n",
       "       'BC Light', 'Light Sour Blend ', 'Long Lake Light Synthetic',\n",
       "       'Shell Synthetic Light'], dtype=object)"
      ]
     },
     "execution_count": 440,
     "metadata": {},
     "output_type": "execute_result"
    }
   ],
   "source": [
    "df_latest['Name'].unique()"
   ]
  },
  {
   "cell_type": "code",
   "execution_count": 436,
   "id": "a4075c3b",
   "metadata": {},
   "outputs": [],
   "source": [
    "# Save the 61 Crude profiles as a csv for prediction usage.\n",
    "df_latest.to_csv('crude_profile.csv',index=False)"
   ]
  },
  {
   "cell_type": "code",
   "execution_count": 383,
   "id": "02306a60",
   "metadata": {},
   "outputs": [
    {
     "data": {
      "text/plain": [
       "Index(['Absolute Density (kg/m3)', 'Gravity (&degAPI)', 'Sulphur (wt%)',\n",
       "       'MCR (wt%)', 'Sediment (ppmw)', 'TAN (mgKOH/g)', 'Salt (ptb)',\n",
       "       'Nickel (mg/kg)', 'Vanadium (mg/kg)', 'C1 Methane (vol%)',\n",
       "       'C2 Ethane (vol%)', 'C3 Propane (vol%)', 'iC4 iso-Butane (vol%)',\n",
       "       'nC4 n-Butane (vol%)', 'iC5 iso-Pentane (vol%)', 'nC5 n-Pentane (vol%)',\n",
       "       'C6 Hexanes (vol%)', 'C7 Heptanes (vol%)', 'C8 Octanes (vol%)',\n",
       "       'C9 Nonanes (vol%)', 'C10 Decanes (vol%)'],\n",
       "      dtype='object')"
      ]
     },
     "execution_count": 383,
     "metadata": {},
     "output_type": "execute_result"
    }
   ],
   "source": [
    "df_feature.columns"
   ]
  },
  {
   "cell_type": "code",
   "execution_count": 389,
   "id": "35e9fd0d",
   "metadata": {},
   "outputs": [
    {
     "data": {
      "text/html": [
       "<div>\n",
       "<style scoped>\n",
       "    .dataframe tbody tr th:only-of-type {\n",
       "        vertical-align: middle;\n",
       "    }\n",
       "\n",
       "    .dataframe tbody tr th {\n",
       "        vertical-align: top;\n",
       "    }\n",
       "\n",
       "    .dataframe thead th {\n",
       "        text-align: right;\n",
       "    }\n",
       "</style>\n",
       "<table border=\"1\" class=\"dataframe\">\n",
       "  <thead>\n",
       "    <tr style=\"text-align: right;\">\n",
       "      <th></th>\n",
       "      <th>Absolute Density (kg/m3)</th>\n",
       "      <th>Gravity (&amp;degAPI)</th>\n",
       "      <th>Sulphur (wt%)</th>\n",
       "      <th>MCR (wt%)</th>\n",
       "      <th>Sediment (ppmw)</th>\n",
       "      <th>TAN (mgKOH/g)</th>\n",
       "      <th>Salt (ptb)</th>\n",
       "      <th>Nickel (mg/kg)</th>\n",
       "      <th>Vanadium (mg/kg)</th>\n",
       "      <th>C2 Ethane (vol%)</th>\n",
       "      <th>C3 Propane (vol%)</th>\n",
       "      <th>iC4 iso-Butane (vol%)</th>\n",
       "      <th>nC4 n-Butane (vol%)</th>\n",
       "      <th>iC5 iso-Pentane (vol%)</th>\n",
       "      <th>nC5 n-Pentane (vol%)</th>\n",
       "      <th>C6 Hexanes (vol%)</th>\n",
       "      <th>C7 Heptanes (vol%)</th>\n",
       "      <th>C8 Octanes (vol%)</th>\n",
       "      <th>C9 Nonanes (vol%)</th>\n",
       "      <th>C10 Decanes (vol%)</th>\n",
       "    </tr>\n",
       "  </thead>\n",
       "  <tbody>\n",
       "    <tr>\n",
       "      <th>count</th>\n",
       "      <td>4866.000000</td>\n",
       "      <td>4866.000000</td>\n",
       "      <td>4866.000000</td>\n",
       "      <td>4866.000000</td>\n",
       "      <td>4866.000000</td>\n",
       "      <td>4866.000000</td>\n",
       "      <td>4866.000000</td>\n",
       "      <td>4866.000000</td>\n",
       "      <td>4866.000000</td>\n",
       "      <td>4866.000000</td>\n",
       "      <td>4866.000000</td>\n",
       "      <td>4866.000000</td>\n",
       "      <td>4866.000000</td>\n",
       "      <td>4866.000000</td>\n",
       "      <td>4866.000000</td>\n",
       "      <td>4866.000000</td>\n",
       "      <td>4866.000000</td>\n",
       "      <td>4866.000000</td>\n",
       "      <td>4866.000000</td>\n",
       "      <td>4866.000000</td>\n",
       "    </tr>\n",
       "    <tr>\n",
       "      <th>mean</th>\n",
       "      <td>889.261467</td>\n",
       "      <td>27.869174</td>\n",
       "      <td>2.157935</td>\n",
       "      <td>5.858931</td>\n",
       "      <td>138.007665</td>\n",
       "      <td>0.737069</td>\n",
       "      <td>9.049178</td>\n",
       "      <td>29.585882</td>\n",
       "      <td>72.750863</td>\n",
       "      <td>0.012404</td>\n",
       "      <td>0.170092</td>\n",
       "      <td>0.617273</td>\n",
       "      <td>1.694472</td>\n",
       "      <td>2.041825</td>\n",
       "      <td>2.347739</td>\n",
       "      <td>4.353533</td>\n",
       "      <td>4.012865</td>\n",
       "      <td>3.837795</td>\n",
       "      <td>3.057799</td>\n",
       "      <td>1.601730</td>\n",
       "    </tr>\n",
       "    <tr>\n",
       "      <th>std</th>\n",
       "      <td>43.268175</td>\n",
       "      <td>7.911760</td>\n",
       "      <td>1.508338</td>\n",
       "      <td>4.222856</td>\n",
       "      <td>168.860747</td>\n",
       "      <td>0.817345</td>\n",
       "      <td>15.496756</td>\n",
       "      <td>24.866086</td>\n",
       "      <td>63.413769</td>\n",
       "      <td>0.017958</td>\n",
       "      <td>0.177253</td>\n",
       "      <td>0.473915</td>\n",
       "      <td>1.005567</td>\n",
       "      <td>1.270060</td>\n",
       "      <td>1.239703</td>\n",
       "      <td>1.636913</td>\n",
       "      <td>1.933609</td>\n",
       "      <td>2.039063</td>\n",
       "      <td>1.740036</td>\n",
       "      <td>0.903121</td>\n",
       "    </tr>\n",
       "    <tr>\n",
       "      <th>min</th>\n",
       "      <td>790.700000</td>\n",
       "      <td>18.600000</td>\n",
       "      <td>0.000000</td>\n",
       "      <td>0.000000</td>\n",
       "      <td>0.000000</td>\n",
       "      <td>0.000000</td>\n",
       "      <td>0.000000</td>\n",
       "      <td>0.000000</td>\n",
       "      <td>0.000000</td>\n",
       "      <td>0.000000</td>\n",
       "      <td>0.000000</td>\n",
       "      <td>0.000000</td>\n",
       "      <td>0.010000</td>\n",
       "      <td>0.000000</td>\n",
       "      <td>0.030000</td>\n",
       "      <td>0.430000</td>\n",
       "      <td>0.850000</td>\n",
       "      <td>0.900000</td>\n",
       "      <td>0.300000</td>\n",
       "      <td>0.000000</td>\n",
       "    </tr>\n",
       "    <tr>\n",
       "      <th>25%</th>\n",
       "      <td>851.200000</td>\n",
       "      <td>20.900000</td>\n",
       "      <td>0.410000</td>\n",
       "      <td>1.700000</td>\n",
       "      <td>0.000000</td>\n",
       "      <td>0.000000</td>\n",
       "      <td>0.000000</td>\n",
       "      <td>3.800000</td>\n",
       "      <td>7.000000</td>\n",
       "      <td>0.000000</td>\n",
       "      <td>0.050000</td>\n",
       "      <td>0.230000</td>\n",
       "      <td>0.880000</td>\n",
       "      <td>1.080000</td>\n",
       "      <td>1.470000</td>\n",
       "      <td>3.200000</td>\n",
       "      <td>2.680000</td>\n",
       "      <td>2.260000</td>\n",
       "      <td>1.620000</td>\n",
       "      <td>0.820000</td>\n",
       "    </tr>\n",
       "    <tr>\n",
       "      <th>50%</th>\n",
       "      <td>917.500000</td>\n",
       "      <td>22.600000</td>\n",
       "      <td>2.690000</td>\n",
       "      <td>7.100000</td>\n",
       "      <td>98.000000</td>\n",
       "      <td>0.585000</td>\n",
       "      <td>4.300000</td>\n",
       "      <td>29.000000</td>\n",
       "      <td>76.000000</td>\n",
       "      <td>0.000000</td>\n",
       "      <td>0.090000</td>\n",
       "      <td>0.490000</td>\n",
       "      <td>1.490000</td>\n",
       "      <td>1.750000</td>\n",
       "      <td>2.120000</td>\n",
       "      <td>4.330000</td>\n",
       "      <td>3.350000</td>\n",
       "      <td>3.060000</td>\n",
       "      <td>2.560000</td>\n",
       "      <td>1.370000</td>\n",
       "    </tr>\n",
       "    <tr>\n",
       "      <th>75%</th>\n",
       "      <td>927.900000</td>\n",
       "      <td>34.600000</td>\n",
       "      <td>3.530000</td>\n",
       "      <td>9.700000</td>\n",
       "      <td>218.000000</td>\n",
       "      <td>1.140000</td>\n",
       "      <td>11.200000</td>\n",
       "      <td>52.600000</td>\n",
       "      <td>131.000000</td>\n",
       "      <td>0.020000</td>\n",
       "      <td>0.280000</td>\n",
       "      <td>0.930000</td>\n",
       "      <td>2.470000</td>\n",
       "      <td>2.670000</td>\n",
       "      <td>2.990000</td>\n",
       "      <td>5.540000</td>\n",
       "      <td>5.430000</td>\n",
       "      <td>5.430000</td>\n",
       "      <td>4.400000</td>\n",
       "      <td>2.350000</td>\n",
       "    </tr>\n",
       "    <tr>\n",
       "      <th>max</th>\n",
       "      <td>942.200000</td>\n",
       "      <td>47.300000</td>\n",
       "      <td>5.310000</td>\n",
       "      <td>15.300000</td>\n",
       "      <td>1508.100000</td>\n",
       "      <td>4.030000</td>\n",
       "      <td>191.000000</td>\n",
       "      <td>84.800000</td>\n",
       "      <td>219.000000</td>\n",
       "      <td>0.090000</td>\n",
       "      <td>1.020000</td>\n",
       "      <td>2.770000</td>\n",
       "      <td>6.120000</td>\n",
       "      <td>11.040000</td>\n",
       "      <td>10.780000</td>\n",
       "      <td>13.970000</td>\n",
       "      <td>13.300000</td>\n",
       "      <td>12.280000</td>\n",
       "      <td>9.790000</td>\n",
       "      <td>5.550000</td>\n",
       "    </tr>\n",
       "  </tbody>\n",
       "</table>\n",
       "</div>"
      ],
      "text/plain": [
       "       Absolute Density (kg/m3)  Gravity (&degAPI)  Sulphur (wt%)  \\\n",
       "count               4866.000000        4866.000000    4866.000000   \n",
       "mean                 889.261467          27.869174       2.157935   \n",
       "std                   43.268175           7.911760       1.508338   \n",
       "min                  790.700000          18.600000       0.000000   \n",
       "25%                  851.200000          20.900000       0.410000   \n",
       "50%                  917.500000          22.600000       2.690000   \n",
       "75%                  927.900000          34.600000       3.530000   \n",
       "max                  942.200000          47.300000       5.310000   \n",
       "\n",
       "         MCR (wt%)  Sediment (ppmw)  TAN (mgKOH/g)   Salt (ptb)  \\\n",
       "count  4866.000000      4866.000000    4866.000000  4866.000000   \n",
       "mean      5.858931       138.007665       0.737069     9.049178   \n",
       "std       4.222856       168.860747       0.817345    15.496756   \n",
       "min       0.000000         0.000000       0.000000     0.000000   \n",
       "25%       1.700000         0.000000       0.000000     0.000000   \n",
       "50%       7.100000        98.000000       0.585000     4.300000   \n",
       "75%       9.700000       218.000000       1.140000    11.200000   \n",
       "max      15.300000      1508.100000       4.030000   191.000000   \n",
       "\n",
       "       Nickel (mg/kg)  Vanadium (mg/kg)  C2 Ethane (vol%)  C3 Propane (vol%)  \\\n",
       "count     4866.000000       4866.000000       4866.000000        4866.000000   \n",
       "mean        29.585882         72.750863          0.012404           0.170092   \n",
       "std         24.866086         63.413769          0.017958           0.177253   \n",
       "min          0.000000          0.000000          0.000000           0.000000   \n",
       "25%          3.800000          7.000000          0.000000           0.050000   \n",
       "50%         29.000000         76.000000          0.000000           0.090000   \n",
       "75%         52.600000        131.000000          0.020000           0.280000   \n",
       "max         84.800000        219.000000          0.090000           1.020000   \n",
       "\n",
       "       iC4 iso-Butane (vol%)  nC4 n-Butane (vol%)  iC5 iso-Pentane (vol%)  \\\n",
       "count            4866.000000          4866.000000             4866.000000   \n",
       "mean                0.617273             1.694472                2.041825   \n",
       "std                 0.473915             1.005567                1.270060   \n",
       "min                 0.000000             0.010000                0.000000   \n",
       "25%                 0.230000             0.880000                1.080000   \n",
       "50%                 0.490000             1.490000                1.750000   \n",
       "75%                 0.930000             2.470000                2.670000   \n",
       "max                 2.770000             6.120000               11.040000   \n",
       "\n",
       "       nC5 n-Pentane (vol%)  C6 Hexanes (vol%)  C7 Heptanes (vol%)  \\\n",
       "count           4866.000000        4866.000000         4866.000000   \n",
       "mean               2.347739           4.353533            4.012865   \n",
       "std                1.239703           1.636913            1.933609   \n",
       "min                0.030000           0.430000            0.850000   \n",
       "25%                1.470000           3.200000            2.680000   \n",
       "50%                2.120000           4.330000            3.350000   \n",
       "75%                2.990000           5.540000            5.430000   \n",
       "max               10.780000          13.970000           13.300000   \n",
       "\n",
       "       C8 Octanes (vol%)  C9 Nonanes (vol%)  C10 Decanes (vol%)  \n",
       "count        4866.000000        4866.000000         4866.000000  \n",
       "mean            3.837795           3.057799            1.601730  \n",
       "std             2.039063           1.740036            0.903121  \n",
       "min             0.900000           0.300000            0.000000  \n",
       "25%             2.260000           1.620000            0.820000  \n",
       "50%             3.060000           2.560000            1.370000  \n",
       "75%             5.430000           4.400000            2.350000  \n",
       "max            12.280000           9.790000            5.550000  "
      ]
     },
     "execution_count": 389,
     "metadata": {},
     "output_type": "execute_result"
    }
   ],
   "source": [
    "df_feature.describe()"
   ]
  },
  {
   "cell_type": "code",
   "execution_count": 394,
   "id": "7b0179f6",
   "metadata": {},
   "outputs": [],
   "source": [
    "# Get dependent variables(Y)\n",
    "\n",
    "df_label = df3.iloc[:,-101:-1]"
   ]
  },
  {
   "cell_type": "code",
   "execution_count": 148,
   "id": "3ebcbff1",
   "metadata": {},
   "outputs": [
    {
     "data": {
      "text/plain": [
       "Index(['IBP', '1% Recovered', '2% Recovered', '3% Recovered', '4% Recovered',\n",
       "       '5% Recovered', '6% Recovered', '7% Recovered', '8% Recovered',\n",
       "       '9% Recovered', '10% Recovered', '11% Recovered', '12% Recovered',\n",
       "       '13% Recovered', '14% Recovered', '15% Recovered', '16% Recovered',\n",
       "       '17% Recovered', '18% Recovered', '19% Recovered', '20% Recovered',\n",
       "       '21% Recovered', '22% Recovered', '23% Recovered', '24% Recovered',\n",
       "       '25% Recovered', '26% Recovered', '27% Recovered', '28% Recovered',\n",
       "       '29% Recovered', '30% Recovered', '31% Recovered', '32% Recovered',\n",
       "       '33% Recovered', '34% Recovered', '35% Recovered', '36% Recovered',\n",
       "       '37% Recovered', '38% Recovered', '39% Recovered', '40% Recovered',\n",
       "       '41% Recovered', '42% Recovered', '43% Recovered', '44% Recovered',\n",
       "       '45% Recovered', '46% Recovered', '47% Recovered', '48% Recovered',\n",
       "       '49% Recovered', '50% Recovered', '51% Recovered', '52% Recovered',\n",
       "       '53% Recovered', '54% Recovered', '55% Recovered', '56% Recovered',\n",
       "       '57% Recovered', '58% Recovered', '59% Recovered', '60% Recovered',\n",
       "       '61% Recovered', '62% Recovered', '63% Recovered', '64% Recovered',\n",
       "       '65% Recovered', '66% Recovered', '67% Recovered', '68% Recovered',\n",
       "       '69% Recovered', '70% Recovered', '71% Recovered', '72% Recovered',\n",
       "       '73% Recovered', '74% Recovered', '75% Recovered', '76% Recovered',\n",
       "       '77% Recovered', '78% Recovered', '79% Recovered', '80% Recovered',\n",
       "       '81% Recovered', '82% Recovered', '83% Recovered', '84% Recovered',\n",
       "       '85% Recovered', '86% Recovered', '87% Recovered', '88% Recovered',\n",
       "       '89% Recovered', '90% Recovered', '91% Recovered', '92% Recovered',\n",
       "       '93% Recovered', '94% Recovered', '95% Recovered', '96% Recovered',\n",
       "       '97% Recovered', '98% Recovered', '99% Recovered'],\n",
       "      dtype='object')"
      ]
     },
     "execution_count": 148,
     "metadata": {},
     "output_type": "execute_result"
    }
   ],
   "source": [
    "df_label.columns"
   ]
  },
  {
   "cell_type": "code",
   "execution_count": 395,
   "id": "776c427e",
   "metadata": {},
   "outputs": [
    {
     "data": {
      "text/html": [
       "<div>\n",
       "<style scoped>\n",
       "    .dataframe tbody tr th:only-of-type {\n",
       "        vertical-align: middle;\n",
       "    }\n",
       "\n",
       "    .dataframe tbody tr th {\n",
       "        vertical-align: top;\n",
       "    }\n",
       "\n",
       "    .dataframe thead th {\n",
       "        text-align: right;\n",
       "    }\n",
       "</style>\n",
       "<table border=\"1\" class=\"dataframe\">\n",
       "  <thead>\n",
       "    <tr style=\"text-align: right;\">\n",
       "      <th></th>\n",
       "      <th>IBP</th>\n",
       "      <th>1% Recovered</th>\n",
       "      <th>2% Recovered</th>\n",
       "      <th>3% Recovered</th>\n",
       "      <th>4% Recovered</th>\n",
       "      <th>5% Recovered</th>\n",
       "      <th>6% Recovered</th>\n",
       "      <th>7% Recovered</th>\n",
       "      <th>8% Recovered</th>\n",
       "      <th>9% Recovered</th>\n",
       "      <th>...</th>\n",
       "      <th>90% Recovered</th>\n",
       "      <th>91% Recovered</th>\n",
       "      <th>92% Recovered</th>\n",
       "      <th>93% Recovered</th>\n",
       "      <th>94% Recovered</th>\n",
       "      <th>95% Recovered</th>\n",
       "      <th>96% Recovered</th>\n",
       "      <th>97% Recovered</th>\n",
       "      <th>98% Recovered</th>\n",
       "      <th>99% Recovered</th>\n",
       "    </tr>\n",
       "  </thead>\n",
       "  <tbody>\n",
       "    <tr>\n",
       "      <th>count</th>\n",
       "      <td>4819</td>\n",
       "      <td>4819</td>\n",
       "      <td>4819</td>\n",
       "      <td>4819</td>\n",
       "      <td>4819</td>\n",
       "      <td>4819</td>\n",
       "      <td>4819</td>\n",
       "      <td>4819</td>\n",
       "      <td>4819</td>\n",
       "      <td>4819</td>\n",
       "      <td>...</td>\n",
       "      <td>3192</td>\n",
       "      <td>2926</td>\n",
       "      <td>2690</td>\n",
       "      <td>2636</td>\n",
       "      <td>2453</td>\n",
       "      <td>2295</td>\n",
       "      <td>2264</td>\n",
       "      <td>2176</td>\n",
       "      <td>2033</td>\n",
       "      <td>1510</td>\n",
       "    </tr>\n",
       "    <tr>\n",
       "      <th>unique</th>\n",
       "      <td>143</td>\n",
       "      <td>224</td>\n",
       "      <td>453</td>\n",
       "      <td>558</td>\n",
       "      <td>672</td>\n",
       "      <td>788</td>\n",
       "      <td>894</td>\n",
       "      <td>967</td>\n",
       "      <td>1020</td>\n",
       "      <td>1019</td>\n",
       "      <td>...</td>\n",
       "      <td>880</td>\n",
       "      <td>879</td>\n",
       "      <td>816</td>\n",
       "      <td>755</td>\n",
       "      <td>694</td>\n",
       "      <td>621</td>\n",
       "      <td>537</td>\n",
       "      <td>480</td>\n",
       "      <td>452</td>\n",
       "      <td>445</td>\n",
       "    </tr>\n",
       "    <tr>\n",
       "      <th>top</th>\n",
       "      <td>-11.7</td>\n",
       "      <td>-0.5</td>\n",
       "      <td>27.8</td>\n",
       "      <td>36.1</td>\n",
       "      <td>36.1</td>\n",
       "      <td>36.1</td>\n",
       "      <td>36.1</td>\n",
       "      <td>60.3</td>\n",
       "      <td>68.7</td>\n",
       "      <td>68.7</td>\n",
       "      <td>...</td>\n",
       "      <td>711.7</td>\n",
       "      <td>692.9</td>\n",
       "      <td>704.2</td>\n",
       "      <td>716.1</td>\n",
       "      <td>719.8</td>\n",
       "      <td>719.0</td>\n",
       "      <td>696.7</td>\n",
       "      <td>713.2</td>\n",
       "      <td>706.4</td>\n",
       "      <td>695.1</td>\n",
       "    </tr>\n",
       "    <tr>\n",
       "      <th>freq</th>\n",
       "      <td>272</td>\n",
       "      <td>347</td>\n",
       "      <td>207</td>\n",
       "      <td>214</td>\n",
       "      <td>176</td>\n",
       "      <td>234</td>\n",
       "      <td>138</td>\n",
       "      <td>72</td>\n",
       "      <td>74</td>\n",
       "      <td>89</td>\n",
       "      <td>...</td>\n",
       "      <td>91</td>\n",
       "      <td>114</td>\n",
       "      <td>111</td>\n",
       "      <td>117</td>\n",
       "      <td>85</td>\n",
       "      <td>83</td>\n",
       "      <td>87</td>\n",
       "      <td>87</td>\n",
       "      <td>98</td>\n",
       "      <td>100</td>\n",
       "    </tr>\n",
       "  </tbody>\n",
       "</table>\n",
       "<p>4 rows × 100 columns</p>\n",
       "</div>"
      ],
      "text/plain": [
       "          IBP 1% Recovered 2% Recovered 3% Recovered 4% Recovered  \\\n",
       "count    4819         4819         4819         4819         4819   \n",
       "unique    143          224          453          558          672   \n",
       "top     -11.7         -0.5         27.8         36.1         36.1   \n",
       "freq      272          347          207          214          176   \n",
       "\n",
       "       5% Recovered 6% Recovered 7% Recovered 8% Recovered 9% Recovered  ...  \\\n",
       "count          4819         4819         4819         4819         4819  ...   \n",
       "unique          788          894          967         1020         1019  ...   \n",
       "top            36.1         36.1         60.3         68.7         68.7  ...   \n",
       "freq            234          138           72           74           89  ...   \n",
       "\n",
       "       90% Recovered 91% Recovered 92% Recovered 93% Recovered 94% Recovered  \\\n",
       "count           3192          2926          2690          2636          2453   \n",
       "unique           880           879           816           755           694   \n",
       "top            711.7         692.9         704.2         716.1         719.8   \n",
       "freq              91           114           111           117            85   \n",
       "\n",
       "       95% Recovered 96% Recovered 97% Recovered 98% Recovered 99% Recovered  \n",
       "count           2295          2264          2176          2033          1510  \n",
       "unique           621           537           480           452           445  \n",
       "top            719.0         696.7         713.2         706.4         695.1  \n",
       "freq              83            87            87            98           100  \n",
       "\n",
       "[4 rows x 100 columns]"
      ]
     },
     "execution_count": 395,
     "metadata": {},
     "output_type": "execute_result"
    }
   ],
   "source": [
    "df_label.describe()"
   ]
  },
  {
   "cell_type": "code",
   "execution_count": 149,
   "id": "4299d71b",
   "metadata": {},
   "outputs": [],
   "source": [
    "# Start from IBP \n",
    "df_IBP = df_feature.copy()\n",
    "df_IBP['%mass'] = 0\n",
    "df_IBP['temp'] = df_label['IBP']"
   ]
  },
  {
   "cell_type": "code",
   "execution_count": 152,
   "id": "245c0cc8",
   "metadata": {},
   "outputs": [],
   "source": [
    "# To create a distillation profile, we need %recoered from 5% to 99% at 5 percentage point intervals, as well as iBP.\n",
    "mass_list = list(range(5,100,5))\n",
    "mass_list.append(99)\n",
    "for i in mass_list:\n",
    "    df_next = df_feature.copy()\n",
    "    \n",
    "    # Make %mass as a feature \n",
    "    df_next['%mass'] = i\n",
    "    \n",
    "    # Get dependent varaible \n",
    "    column_name = str(i)+\"% Recovered\" \n",
    "    df_next['temp'] = df_label[column_name]\n",
    "    \n",
    "    # Append the table \n",
    "    df_IBP = pd.concat([df_IBP,df_next])"
   ]
  },
  {
   "cell_type": "code",
   "execution_count": 167,
   "id": "47219c7e",
   "metadata": {},
   "outputs": [],
   "source": [
    "# Drop the row if the tempature is null, since it means the % mass cannot be reached with this profile,\n",
    "# or the distillation profile is not tested/stimulated in this profile. \n",
    "df_IBP = df_IBP.dropna(subset=[\"temp\"])\n",
    "df_IBP = df_IBP.drop(columns=['C1 Methane (vol%)'])\n",
    "df_IBP = df_IBP.fillna(0)\n",
    "df_IBP = df_IBP.applymap(lambda x: 0 if x == \"ND\" else float(x))\n",
    "\n",
    "print(\"Data is ready for modelling\")"
   ]
  },
  {
   "cell_type": "code",
   "execution_count": 413,
   "id": "0b7008a2",
   "metadata": {},
   "outputs": [
    {
     "data": {
      "text/plain": [
       "93402"
      ]
     },
     "execution_count": 413,
     "metadata": {},
     "output_type": "execute_result"
    }
   ],
   "source": [
    "len(df_IBP)"
   ]
  },
  {
   "cell_type": "code",
   "execution_count": 411,
   "id": "7f5d899a",
   "metadata": {},
   "outputs": [
    {
     "data": {
      "text/html": [
       "<div>\n",
       "<style scoped>\n",
       "    .dataframe tbody tr th:only-of-type {\n",
       "        vertical-align: middle;\n",
       "    }\n",
       "\n",
       "    .dataframe tbody tr th {\n",
       "        vertical-align: top;\n",
       "    }\n",
       "\n",
       "    .dataframe thead th {\n",
       "        text-align: right;\n",
       "    }\n",
       "</style>\n",
       "<table border=\"1\" class=\"dataframe\">\n",
       "  <thead>\n",
       "    <tr style=\"text-align: right;\">\n",
       "      <th></th>\n",
       "      <th>Absolute Density (kg/m3)</th>\n",
       "      <th>Gravity (&amp;degAPI)</th>\n",
       "      <th>Sulphur (wt%)</th>\n",
       "      <th>MCR (wt%)</th>\n",
       "      <th>Sediment (ppmw)</th>\n",
       "      <th>TAN (mgKOH/g)</th>\n",
       "      <th>Salt (ptb)</th>\n",
       "      <th>Nickel (mg/kg)</th>\n",
       "      <th>Vanadium (mg/kg)</th>\n",
       "      <th>C2 Ethane (vol%)</th>\n",
       "      <th>...</th>\n",
       "      <th>nC4 n-Butane (vol%)</th>\n",
       "      <th>iC5 iso-Pentane (vol%)</th>\n",
       "      <th>nC5 n-Pentane (vol%)</th>\n",
       "      <th>C6 Hexanes (vol%)</th>\n",
       "      <th>C7 Heptanes (vol%)</th>\n",
       "      <th>C8 Octanes (vol%)</th>\n",
       "      <th>C9 Nonanes (vol%)</th>\n",
       "      <th>C10 Decanes (vol%)</th>\n",
       "      <th>%mass</th>\n",
       "      <th>temp</th>\n",
       "    </tr>\n",
       "  </thead>\n",
       "  <tbody>\n",
       "    <tr>\n",
       "      <th>4864</th>\n",
       "      <td>825.1</td>\n",
       "      <td>39.9</td>\n",
       "      <td>0.41</td>\n",
       "      <td>1.9</td>\n",
       "      <td>0.0</td>\n",
       "      <td>0.00</td>\n",
       "      <td>0.0</td>\n",
       "      <td>4.5</td>\n",
       "      <td>9.6</td>\n",
       "      <td>0.02</td>\n",
       "      <td>...</td>\n",
       "      <td>2.62</td>\n",
       "      <td>1.40</td>\n",
       "      <td>1.82</td>\n",
       "      <td>5.85</td>\n",
       "      <td>7.18</td>\n",
       "      <td>7.00</td>\n",
       "      <td>6.29</td>\n",
       "      <td>3.58</td>\n",
       "      <td>0.0</td>\n",
       "      <td>34.1</td>\n",
       "    </tr>\n",
       "    <tr>\n",
       "      <th>4862</th>\n",
       "      <td>923.8</td>\n",
       "      <td>21.5</td>\n",
       "      <td>3.96</td>\n",
       "      <td>9.1</td>\n",
       "      <td>39.7</td>\n",
       "      <td>2.00</td>\n",
       "      <td>3.6</td>\n",
       "      <td>53.7</td>\n",
       "      <td>141.0</td>\n",
       "      <td>0.00</td>\n",
       "      <td>...</td>\n",
       "      <td>0.96</td>\n",
       "      <td>4.29</td>\n",
       "      <td>4.73</td>\n",
       "      <td>5.65</td>\n",
       "      <td>3.48</td>\n",
       "      <td>2.39</td>\n",
       "      <td>1.33</td>\n",
       "      <td>0.68</td>\n",
       "      <td>0.0</td>\n",
       "      <td>34.2</td>\n",
       "    </tr>\n",
       "    <tr>\n",
       "      <th>4861</th>\n",
       "      <td>919.1</td>\n",
       "      <td>22.3</td>\n",
       "      <td>3.83</td>\n",
       "      <td>10.1</td>\n",
       "      <td>94.7</td>\n",
       "      <td>1.43</td>\n",
       "      <td>3.2</td>\n",
       "      <td>66.1</td>\n",
       "      <td>166.0</td>\n",
       "      <td>0.03</td>\n",
       "      <td>...</td>\n",
       "      <td>1.30</td>\n",
       "      <td>4.53</td>\n",
       "      <td>4.95</td>\n",
       "      <td>6.04</td>\n",
       "      <td>3.74</td>\n",
       "      <td>2.62</td>\n",
       "      <td>1.54</td>\n",
       "      <td>0.81</td>\n",
       "      <td>0.0</td>\n",
       "      <td>34.6</td>\n",
       "    </tr>\n",
       "    <tr>\n",
       "      <th>4858</th>\n",
       "      <td>922.2</td>\n",
       "      <td>21.8</td>\n",
       "      <td>3.35</td>\n",
       "      <td>9.7</td>\n",
       "      <td>187.1</td>\n",
       "      <td>0.99</td>\n",
       "      <td>24.0</td>\n",
       "      <td>43.9</td>\n",
       "      <td>107.0</td>\n",
       "      <td>0.03</td>\n",
       "      <td>...</td>\n",
       "      <td>1.83</td>\n",
       "      <td>2.45</td>\n",
       "      <td>2.66</td>\n",
       "      <td>4.00</td>\n",
       "      <td>3.22</td>\n",
       "      <td>2.68</td>\n",
       "      <td>1.84</td>\n",
       "      <td>0.91</td>\n",
       "      <td>0.0</td>\n",
       "      <td>34.2</td>\n",
       "    </tr>\n",
       "    <tr>\n",
       "      <th>4860</th>\n",
       "      <td>925.1</td>\n",
       "      <td>21.3</td>\n",
       "      <td>3.81</td>\n",
       "      <td>9.9</td>\n",
       "      <td>137.0</td>\n",
       "      <td>0.91</td>\n",
       "      <td>11.2</td>\n",
       "      <td>53.4</td>\n",
       "      <td>133.0</td>\n",
       "      <td>0.03</td>\n",
       "      <td>...</td>\n",
       "      <td>1.95</td>\n",
       "      <td>2.36</td>\n",
       "      <td>2.64</td>\n",
       "      <td>4.04</td>\n",
       "      <td>3.19</td>\n",
       "      <td>2.67</td>\n",
       "      <td>1.91</td>\n",
       "      <td>1.06</td>\n",
       "      <td>0.0</td>\n",
       "      <td>34.4</td>\n",
       "    </tr>\n",
       "  </tbody>\n",
       "</table>\n",
       "<p>5 rows × 22 columns</p>\n",
       "</div>"
      ],
      "text/plain": [
       "      Absolute Density (kg/m3)  Gravity (&degAPI)  Sulphur (wt%)  MCR (wt%)  \\\n",
       "4864                     825.1               39.9           0.41        1.9   \n",
       "4862                     923.8               21.5           3.96        9.1   \n",
       "4861                     919.1               22.3           3.83       10.1   \n",
       "4858                     922.2               21.8           3.35        9.7   \n",
       "4860                     925.1               21.3           3.81        9.9   \n",
       "\n",
       "      Sediment (ppmw)  TAN (mgKOH/g)  Salt (ptb)  Nickel (mg/kg)  \\\n",
       "4864              0.0           0.00         0.0             4.5   \n",
       "4862             39.7           2.00         3.6            53.7   \n",
       "4861             94.7           1.43         3.2            66.1   \n",
       "4858            187.1           0.99        24.0            43.9   \n",
       "4860            137.0           0.91        11.2            53.4   \n",
       "\n",
       "      Vanadium (mg/kg)  C2 Ethane (vol%)  ...  nC4 n-Butane (vol%)  \\\n",
       "4864               9.6              0.02  ...                 2.62   \n",
       "4862             141.0              0.00  ...                 0.96   \n",
       "4861             166.0              0.03  ...                 1.30   \n",
       "4858             107.0              0.03  ...                 1.83   \n",
       "4860             133.0              0.03  ...                 1.95   \n",
       "\n",
       "      iC5 iso-Pentane (vol%)  nC5 n-Pentane (vol%)  C6 Hexanes (vol%)  \\\n",
       "4864                    1.40                  1.82               5.85   \n",
       "4862                    4.29                  4.73               5.65   \n",
       "4861                    4.53                  4.95               6.04   \n",
       "4858                    2.45                  2.66               4.00   \n",
       "4860                    2.36                  2.64               4.04   \n",
       "\n",
       "      C7 Heptanes (vol%)  C8 Octanes (vol%)  C9 Nonanes (vol%)  \\\n",
       "4864                7.18               7.00               6.29   \n",
       "4862                3.48               2.39               1.33   \n",
       "4861                3.74               2.62               1.54   \n",
       "4858                3.22               2.68               1.84   \n",
       "4860                3.19               2.67               1.91   \n",
       "\n",
       "      C10 Decanes (vol%)  %mass  temp  \n",
       "4864                3.58    0.0  34.1  \n",
       "4862                0.68    0.0  34.2  \n",
       "4861                0.81    0.0  34.6  \n",
       "4858                0.91    0.0  34.2  \n",
       "4860                1.06    0.0  34.4  \n",
       "\n",
       "[5 rows x 22 columns]"
      ]
     },
     "execution_count": 411,
     "metadata": {},
     "output_type": "execute_result"
    }
   ],
   "source": [
    "df_IBP.head(5)"
   ]
  },
  {
   "cell_type": "code",
   "execution_count": 182,
   "id": "7833dd19",
   "metadata": {
    "scrolled": false
   },
   "outputs": [
    {
     "data": {
      "text/plain": [
       "<AxesSubplot:>"
      ]
     },
     "execution_count": 182,
     "metadata": {},
     "output_type": "execute_result"
    },
    {
     "data": {
      "image/png": "[encoded data removed]",
      "text/plain": [
       "<Figure size 792x648 with 2 Axes>"
      ]
     },
     "metadata": {
      "needs_background": "light"
     },
     "output_type": "display_data"
    }
   ],
   "source": [
    "# Compute the correlation matrix\n",
    "corr = df_IBP.corr()\n",
    "\n",
    "# Generate a mask for the upper triangle\n",
    "mask = np.triu(np.ones_like(corr, dtype=bool))\n",
    "\n",
    "# Set up the matplotlib figure\n",
    "f, ax = plt.subplots(figsize=(11, 9))\n",
    "\n",
    "# Generate a custom diverging colormap\n",
    "cmap = sns.diverging_palette(230, 20, as_cmap=True)\n",
    "\n",
    "# Draw the heatmap with the mask and correct aspect ratio\n",
    "sns.heatmap(corr, mask=mask, cmap=cmap, vmax=.3, center=0,\n",
    "            square=True, linewidths=.5, cbar_kws={\"shrink\": .5})"
   ]
  },
  {
   "cell_type": "markdown",
   "id": "a04e6aa3",
   "metadata": {},
   "source": [
    "# 4. Modelling"
   ]
  },
  {
   "cell_type": "code",
   "execution_count": 186,
   "id": "bdfb260b",
   "metadata": {},
   "outputs": [],
   "source": [
    "df_x = df_IBP.iloc[:,:-1]\n",
    "Y = df_IBP.iloc[:,-1]\n",
    "x_train, x_test, y_train, y_test = train_test_split(df_x, Y, test_size =0.3, random_state=0)"
   ]
  },
  {
   "cell_type": "markdown",
   "id": "b6446f64",
   "metadata": {},
   "source": [
    "## 4.1 Linear regression"
   ]
  },
  {
   "cell_type": "code",
   "execution_count": 202,
   "id": "94ee4453",
   "metadata": {},
   "outputs": [],
   "source": [
    "linear_regressor = LinearRegression()  # create object for the class\n",
    "linear_regressor.fit(x_train, y_train)  # perform linear regression\n",
    "y_pred = linear_regressor.predict(x_test)  # make predictions"
   ]
  },
  {
   "cell_type": "code",
   "execution_count": 191,
   "id": "6d20cd69",
   "metadata": {},
   "outputs": [
    {
     "name": "stdout",
     "output_type": "stream",
     "text": [
      "-1989.9764465412013\n",
      "[ 2.00605517e+00  7.99133127e+00  4.99901042e+00  8.68100957e+00\n",
      " -1.79481680e-02  1.87558687e+00  9.00254632e-02 -4.68510793e-01\n",
      "  9.68043259e-02  6.30392211e+01  1.69056686e+01  1.49733057e+01\n",
      " -2.77810174e+00  8.57065231e+00 -6.53540253e+00 -1.15620214e+00\n",
      " -4.10723250e+00  3.23343277e+00 -1.08499230e+00 -3.98620167e+00\n",
      "  6.46266052e+00]\n"
     ]
    }
   ],
   "source": [
    "print(linear_regressor.intercept_)\n",
    "print(linear_regressor.coef_)"
   ]
  },
  {
   "cell_type": "code",
   "execution_count": 216,
   "id": "7ab718e2",
   "metadata": {},
   "outputs": [
    {
     "data": {
      "text/html": [
       "<div>\n",
       "<style scoped>\n",
       "    .dataframe tbody tr th:only-of-type {\n",
       "        vertical-align: middle;\n",
       "    }\n",
       "\n",
       "    .dataframe tbody tr th {\n",
       "        vertical-align: top;\n",
       "    }\n",
       "\n",
       "    .dataframe thead th {\n",
       "        text-align: right;\n",
       "    }\n",
       "</style>\n",
       "<table border=\"1\" class=\"dataframe\">\n",
       "  <thead>\n",
       "    <tr style=\"text-align: right;\">\n",
       "      <th></th>\n",
       "      <th>0</th>\n",
       "      <th>1</th>\n",
       "    </tr>\n",
       "  </thead>\n",
       "  <tbody>\n",
       "    <tr>\n",
       "      <th>0</th>\n",
       "      <td>Absolute Density (kg/m3)</td>\n",
       "      <td>2.006055</td>\n",
       "    </tr>\n",
       "    <tr>\n",
       "      <th>1</th>\n",
       "      <td>Gravity (&amp;degAPI)</td>\n",
       "      <td>7.991331</td>\n",
       "    </tr>\n",
       "    <tr>\n",
       "      <th>2</th>\n",
       "      <td>Sulphur (wt%)</td>\n",
       "      <td>4.99901</td>\n",
       "    </tr>\n",
       "    <tr>\n",
       "      <th>3</th>\n",
       "      <td>MCR (wt%)</td>\n",
       "      <td>8.68101</td>\n",
       "    </tr>\n",
       "    <tr>\n",
       "      <th>4</th>\n",
       "      <td>Sediment (ppmw)</td>\n",
       "      <td>-0.017948</td>\n",
       "    </tr>\n",
       "    <tr>\n",
       "      <th>5</th>\n",
       "      <td>TAN (mgKOH/g)</td>\n",
       "      <td>1.875587</td>\n",
       "    </tr>\n",
       "    <tr>\n",
       "      <th>6</th>\n",
       "      <td>Salt (ptb)</td>\n",
       "      <td>0.090025</td>\n",
       "    </tr>\n",
       "    <tr>\n",
       "      <th>7</th>\n",
       "      <td>Nickel (mg/kg)</td>\n",
       "      <td>-0.468511</td>\n",
       "    </tr>\n",
       "    <tr>\n",
       "      <th>8</th>\n",
       "      <td>Vanadium (mg/kg)</td>\n",
       "      <td>0.096804</td>\n",
       "    </tr>\n",
       "    <tr>\n",
       "      <th>9</th>\n",
       "      <td>C2 Ethane (vol%)</td>\n",
       "      <td>63.039221</td>\n",
       "    </tr>\n",
       "    <tr>\n",
       "      <th>10</th>\n",
       "      <td>C3 Propane (vol%)</td>\n",
       "      <td>16.905669</td>\n",
       "    </tr>\n",
       "    <tr>\n",
       "      <th>11</th>\n",
       "      <td>iC4 iso-Butane (vol%)</td>\n",
       "      <td>14.973306</td>\n",
       "    </tr>\n",
       "    <tr>\n",
       "      <th>12</th>\n",
       "      <td>nC4 n-Butane (vol%)</td>\n",
       "      <td>-2.778102</td>\n",
       "    </tr>\n",
       "    <tr>\n",
       "      <th>13</th>\n",
       "      <td>iC5 iso-Pentane (vol%)</td>\n",
       "      <td>8.570652</td>\n",
       "    </tr>\n",
       "    <tr>\n",
       "      <th>14</th>\n",
       "      <td>nC5 n-Pentane (vol%)</td>\n",
       "      <td>-6.535403</td>\n",
       "    </tr>\n",
       "    <tr>\n",
       "      <th>15</th>\n",
       "      <td>C6 Hexanes (vol%)</td>\n",
       "      <td>-1.156202</td>\n",
       "    </tr>\n",
       "    <tr>\n",
       "      <th>16</th>\n",
       "      <td>C7 Heptanes (vol%)</td>\n",
       "      <td>-4.107233</td>\n",
       "    </tr>\n",
       "    <tr>\n",
       "      <th>17</th>\n",
       "      <td>C8 Octanes (vol%)</td>\n",
       "      <td>3.233433</td>\n",
       "    </tr>\n",
       "    <tr>\n",
       "      <th>18</th>\n",
       "      <td>C9 Nonanes (vol%)</td>\n",
       "      <td>-1.084992</td>\n",
       "    </tr>\n",
       "    <tr>\n",
       "      <th>19</th>\n",
       "      <td>C10 Decanes (vol%)</td>\n",
       "      <td>-3.986202</td>\n",
       "    </tr>\n",
       "    <tr>\n",
       "      <th>20</th>\n",
       "      <td>%mass</td>\n",
       "      <td>6.462661</td>\n",
       "    </tr>\n",
       "  </tbody>\n",
       "</table>\n",
       "</div>"
      ],
      "text/plain": [
       "                           0          1\n",
       "0   Absolute Density (kg/m3)   2.006055\n",
       "1          Gravity (&degAPI)   7.991331\n",
       "2              Sulphur (wt%)    4.99901\n",
       "3                  MCR (wt%)    8.68101\n",
       "4            Sediment (ppmw)  -0.017948\n",
       "5              TAN (mgKOH/g)   1.875587\n",
       "6                 Salt (ptb)   0.090025\n",
       "7             Nickel (mg/kg)  -0.468511\n",
       "8           Vanadium (mg/kg)   0.096804\n",
       "9           C2 Ethane (vol%)  63.039221\n",
       "10         C3 Propane (vol%)  16.905669\n",
       "11     iC4 iso-Butane (vol%)  14.973306\n",
       "12       nC4 n-Butane (vol%)  -2.778102\n",
       "13    iC5 iso-Pentane (vol%)   8.570652\n",
       "14      nC5 n-Pentane (vol%)  -6.535403\n",
       "15         C6 Hexanes (vol%)  -1.156202\n",
       "16        C7 Heptanes (vol%)  -4.107233\n",
       "17         C8 Octanes (vol%)   3.233433\n",
       "18         C9 Nonanes (vol%)  -1.084992\n",
       "19        C10 Decanes (vol%)  -3.986202\n",
       "20                     %mass   6.462661"
      ]
     },
     "execution_count": 216,
     "metadata": {},
     "output_type": "execute_result"
    }
   ],
   "source": [
    "pd.DataFrame([x_train.columns,linear_regressor.coef_]).T"
   ]
  },
  {
   "cell_type": "code",
   "execution_count": 234,
   "id": "4bb2e503",
   "metadata": {},
   "outputs": [
    {
     "name": "stdout",
     "output_type": "stream",
     "text": [
      "41.3774694453268\n",
      "53.872172742169575\n",
      "0.9234746499382088\n",
      "0.5989318844387825\n"
     ]
    }
   ],
   "source": [
    "print(mean_absolute_error(y_test, y_pred))\n",
    "print(mean_squared_error(y_test, y_pred)**0.5)\n",
    "print(r2_score(y_test, y_pred))\n",
    "print(mean_absolute_percentage_error(y_test, y_pred))\n"
   ]
  },
  {
   "cell_type": "code",
   "execution_count": 450,
   "id": "655a2884",
   "metadata": {},
   "outputs": [
    {
     "data": {
      "text/plain": [
       "GridSearchCV(estimator=Ridge(), n_jobs=-1,\n",
       "             param_grid={'alpha': [0, 0.001, 0.01, 0.1, 1, 10],\n",
       "                         'max_iter': [10000, 20000],\n",
       "                         'tol': [1e-07, 1e-06, 1e-05, 0.0001, 0.001]},\n",
       "             scoring='neg_mean_squared_error')"
      ]
     },
     "execution_count": 450,
     "metadata": {},
     "output_type": "execute_result"
    }
   ],
   "source": [
    "# start from model selection of rondom forest regressor(hyper parameter tuning)\n",
    "parameters = {'alpha':[0,0.001,0.01,0.1,1,10], 'tol':[1e-7,1e-6,1e-5,1e-4,1e-3], 'max_iter':[10000,20000]}\n",
    "lr = GridSearchCV(estimator = Ridge(), param_grid = parameters,\n",
    "                     scoring ='neg_mean_squared_error', n_jobs = -1)\n",
    "lr.fit(x_train,y_train)"
   ]
  },
  {
   "cell_type": "code",
   "execution_count": 452,
   "id": "1e3f96b2",
   "metadata": {},
   "outputs": [
    {
     "data": {
      "text/plain": [
       "-2975.9393712965075"
      ]
     },
     "execution_count": 452,
     "metadata": {},
     "output_type": "execute_result"
    }
   ],
   "source": [
    "lr.best_score_"
   ]
  },
  {
   "cell_type": "code",
   "execution_count": 453,
   "id": "efc03f2a",
   "metadata": {},
   "outputs": [
    {
     "name": "stdout",
     "output_type": "stream",
     "text": [
      "Found the best parameters for the random forest model: {'alpha': 1, 'max_iter': 10000, 'tol': 1e-07}\n"
     ]
    }
   ],
   "source": [
    "print(\"Found the best parameters for the random forest model:\",lr.best_params_)"
   ]
  },
  {
   "cell_type": "code",
   "execution_count": 279,
   "id": "73a64b8a",
   "metadata": {},
   "outputs": [
    {
     "name": "stdout",
     "output_type": "stream",
     "text": [
      "42.858960339484604\n",
      "55.337023195093984\n",
      "0.9192564336827973\n",
      "0.580628679543454\n"
     ]
    }
   ],
   "source": [
    "print(mean_absolute_error(y_test, y_pred))\n",
    "print(mean_squared_error(y_test, y_pred)**0.5)\n",
    "print(r2_score(y_test, y_pred))\n",
    "print(mean_absolute_percentage_error(y_test, y_pred))\n"
   ]
  },
  {
   "cell_type": "code",
   "execution_count": null,
   "id": "6d296869",
   "metadata": {},
   "outputs": [],
   "source": []
  },
  {
   "cell_type": "markdown",
   "id": "f56f3b97",
   "metadata": {},
   "source": [
    "## 4.2 Random Forest "
   ]
  },
  {
   "cell_type": "code",
   "execution_count": 380,
   "id": "107bf11c",
   "metadata": {},
   "outputs": [
    {
     "data": {
      "text/plain": [
       "GridSearchCV(estimator=RandomForestRegressor(), n_jobs=-1,\n",
       "             param_grid={'max_depth': [4, 6, 8, 10, 12],\n",
       "                         'n_estimators': [50, 100, 150, 200]},\n",
       "             scoring='neg_mean_squared_error')"
      ]
     },
     "execution_count": 380,
     "metadata": {},
     "output_type": "execute_result"
    }
   ],
   "source": [
    "# start from model selection of rondom forest regressor(hyper parameter tuning)\n",
    "parameters = {'n_estimators':[50,100,150,200], 'max_depth':[4,6,8,10,12]}\n",
    "rg = GridSearchCV(estimator = RandomForestRegressor(), param_grid = parameters,\n",
    "                     scoring ='neg_mean_squared_error', n_jobs = -1)\n",
    "rg.fit(x_train,y_train)"
   ]
  },
  {
   "cell_type": "code",
   "execution_count": 351,
   "id": "8c61f10b",
   "metadata": {},
   "outputs": [
    {
     "data": {
      "text/plain": [
       "-251.57330213266397"
      ]
     },
     "execution_count": 351,
     "metadata": {},
     "output_type": "execute_result"
    }
   ],
   "source": [
    "rg.best_score_"
   ]
  },
  {
   "cell_type": "code",
   "execution_count": 416,
   "id": "af6e2b29",
   "metadata": {},
   "outputs": [
    {
     "name": "stdout",
     "output_type": "stream",
     "text": [
      "find the best parameters for the random forest model: {'max_depth': 12, 'n_estimators': 200}\n"
     ]
    }
   ],
   "source": [
    "print(\"Found the best parameters for the random forest model:\",rg.best_params_)"
   ]
  },
  {
   "cell_type": "code",
   "execution_count": 423,
   "id": "76a4f2c5",
   "metadata": {},
   "outputs": [],
   "source": [
    "# train the model \n",
    "rg1 = RandomForestRegressor(n_estimators=200, max_depth=12)\n",
    "rg1.fit(x_train,y_train)\n",
    "y_pred = rg1.predict(x_test)  # make predictions"
   ]
  },
  {
   "cell_type": "code",
   "execution_count": 424,
   "id": "8bb65dbc",
   "metadata": {},
   "outputs": [
    {
     "name": "stdout",
     "output_type": "stream",
     "text": [
      "8.859286965703596\n",
      "12.428673270443449\n",
      "0.9959629389440229\n"
     ]
    }
   ],
   "source": [
    "# model evaluatation\n",
    "y_pred = rg1.predict(x_train)  # make predictions\n",
    "print(mean_absolute_error(y_train, y_pred))\n",
    "print(mean_squared_error(y_train, y_pred)**0.5)\n",
    "print(r2_score(y_train, y_pred))\n",
    "# print(mean_absolute_percentage_error(y_train,y_pred))"
   ]
  },
  {
   "cell_type": "code",
   "execution_count": 425,
   "id": "308eb1cf",
   "metadata": {},
   "outputs": [
    {
     "name": "stdout",
     "output_type": "stream",
     "text": [
      "11.004878737436725\n",
      "16.138275060676385\n",
      "0.9931326280807293\n"
     ]
    }
   ],
   "source": [
    "y_pred = rg1.predict(x_test) \n",
    "print(mean_absolute_error(y_test, y_pred))\n",
    "print(mean_squared_error(y_test, y_pred)**0.5)\n",
    "print(r2_score(y_test, y_pred))\n",
    "# print(mean_absolute_percentage_error(y_test, y_pred))"
   ]
  },
  {
   "cell_type": "markdown",
   "id": "d9d1fa1f",
   "metadata": {},
   "source": [
    "# Save model"
   ]
  },
  {
   "cell_type": "code",
   "execution_count": 430,
   "id": "223ad762",
   "metadata": {},
   "outputs": [
    {
     "data": {
      "text/plain": [
       "['./random_forest.joblib']"
      ]
     },
     "execution_count": 430,
     "metadata": {},
     "output_type": "execute_result"
    }
   ],
   "source": [
    "joblib.dump(rg1, \"./random_forest.joblib\", compress=3)\n"
   ]
  },
  {
   "cell_type": "code",
   "execution_count": 466,
   "id": "414eeeaa",
   "metadata": {},
   "outputs": [
    {
     "data": {
      "text/plain": [
       "<AxesSubplot:>"
      ]
     },
     "execution_count": 466,
     "metadata": {},
     "output_type": "execute_result"
    },
    {
     "data": {
      "image/png": "[encoded data removed]",
      "text/plain": [
       "<Figure size 432x288 with 1 Axes>"
      ]
     },
     "metadata": {
      "needs_background": "light"
     },
     "output_type": "display_data"
    }
   ],
   "source": [
    "df_feature_importance = pd.DataFrame(rg1.feature_importances_,feature_names)\n",
    "df_feature_importance.columns = ['feature_importances']\n",
    "df_feature_importance.sort_values(by='feature_importances',ascending= False).plot(kind='bar')"
   ]
  },
  {
   "cell_type": "code",
   "execution_count": 309,
   "id": "37bed617",
   "metadata": {},
   "outputs": [
    {
     "data": {
      "text/plain": [
       "array([325.33649536, 668.39705122, 276.56906785, ..., 255.04390089,\n",
       "       422.08809282, 416.70489688])"
      ]
     },
     "execution_count": 309,
     "metadata": {},
     "output_type": "execute_result"
    }
   ],
   "source": [
    "np.array(y_pred)"
   ]
  },
  {
   "cell_type": "code",
   "execution_count": 316,
   "id": "c6ee0c91",
   "metadata": {},
   "outputs": [
    {
     "data": {
      "text/plain": [
       "[array([320. , 663.8, 273.9, ..., 209.3, 417. , 405.2]),\n",
       " array([325.33649536, 668.39705122, 276.56906785, ..., 255.04390089,\n",
       "        422.08809282, 416.70489688])]"
      ]
     },
     "execution_count": 316,
     "metadata": {},
     "output_type": "execute_result"
    }
   ],
   "source": [
    "[np.array(),np.array()]"
   ]
  },
  {
   "cell_type": "code",
   "execution_count": 324,
   "id": "f4ad31f2",
   "metadata": {},
   "outputs": [
    {
     "data": {
      "text/plain": [
       "(2, 65381)"
      ]
     },
     "execution_count": 324,
     "metadata": {},
     "output_type": "execute_result"
    }
   ],
   "source": [
    "np.array([np.array(y_train),y_pred]).reshape(2,-1).shape"
   ]
  },
  {
   "cell_type": "code",
   "execution_count": 331,
   "id": "ddf0ed5c",
   "metadata": {},
   "outputs": [],
   "source": [
    "df_eva = pd.DataFrame(np.array([np.array(y_train),y_pred])).T\n",
    "df_eva.columns = ['y_pred','y_train']\n",
    "df_eva['diff'] = df_eva.apply(lambda x: (x['y_train']-x['y_pred'])/x['y_train'], axis=1)"
   ]
  },
  {
   "cell_type": "code",
   "execution_count": 338,
   "id": "d3f904f2",
   "metadata": {},
   "outputs": [
    {
     "data": {
      "text/html": [
       "<div>\n",
       "<style scoped>\n",
       "    .dataframe tbody tr th:only-of-type {\n",
       "        vertical-align: middle;\n",
       "    }\n",
       "\n",
       "    .dataframe tbody tr th {\n",
       "        vertical-align: top;\n",
       "    }\n",
       "\n",
       "    .dataframe thead th {\n",
       "        text-align: right;\n",
       "    }\n",
       "</style>\n",
       "<table border=\"1\" class=\"dataframe\">\n",
       "  <thead>\n",
       "    <tr style=\"text-align: right;\">\n",
       "      <th></th>\n",
       "      <th>y_pred</th>\n",
       "      <th>y_train</th>\n",
       "      <th>diff</th>\n",
       "    </tr>\n",
       "  </thead>\n",
       "  <tbody>\n",
       "    <tr>\n",
       "      <th>count</th>\n",
       "      <td>65381.000000</td>\n",
       "      <td>65381.000000</td>\n",
       "      <td>65381.000000</td>\n",
       "    </tr>\n",
       "    <tr>\n",
       "      <th>mean</th>\n",
       "      <td>357.527380</td>\n",
       "      <td>357.542143</td>\n",
       "      <td>-0.011460</td>\n",
       "    </tr>\n",
       "    <tr>\n",
       "      <th>std</th>\n",
       "      <td>195.611973</td>\n",
       "      <td>194.772693</td>\n",
       "      <td>3.999068</td>\n",
       "    </tr>\n",
       "    <tr>\n",
       "      <th>min</th>\n",
       "      <td>-11.700000</td>\n",
       "      <td>-11.700000</td>\n",
       "      <td>-955.823528</td>\n",
       "    </tr>\n",
       "    <tr>\n",
       "      <th>25%</th>\n",
       "      <td>207.100000</td>\n",
       "      <td>207.456321</td>\n",
       "      <td>-0.025488</td>\n",
       "    </tr>\n",
       "    <tr>\n",
       "      <th>50%</th>\n",
       "      <td>354.600000</td>\n",
       "      <td>354.565819</td>\n",
       "      <td>-0.002112</td>\n",
       "    </tr>\n",
       "    <tr>\n",
       "      <th>75%</th>\n",
       "      <td>498.700000</td>\n",
       "      <td>497.771475</td>\n",
       "      <td>0.024303</td>\n",
       "    </tr>\n",
       "    <tr>\n",
       "      <th>max</th>\n",
       "      <td>720.000000</td>\n",
       "      <td>717.553670</td>\n",
       "      <td>277.934628</td>\n",
       "    </tr>\n",
       "  </tbody>\n",
       "</table>\n",
       "</div>"
      ],
      "text/plain": [
       "             y_pred       y_train          diff\n",
       "count  65381.000000  65381.000000  65381.000000\n",
       "mean     357.527380    357.542143     -0.011460\n",
       "std      195.611973    194.772693      3.999068\n",
       "min      -11.700000    -11.700000   -955.823528\n",
       "25%      207.100000    207.456321     -0.025488\n",
       "50%      354.600000    354.565819     -0.002112\n",
       "75%      498.700000    497.771475      0.024303\n",
       "max      720.000000    717.553670    277.934628"
      ]
     },
     "execution_count": 338,
     "metadata": {},
     "output_type": "execute_result"
    }
   ],
   "source": [
    "df_eva.describe()"
   ]
  },
  {
   "cell_type": "code",
   "execution_count": 339,
   "id": "d08a3b41",
   "metadata": {},
   "outputs": [
    {
     "data": {
      "text/html": [
       "<div>\n",
       "<style scoped>\n",
       "    .dataframe tbody tr th:only-of-type {\n",
       "        vertical-align: middle;\n",
       "    }\n",
       "\n",
       "    .dataframe tbody tr th {\n",
       "        vertical-align: top;\n",
       "    }\n",
       "\n",
       "    .dataframe thead th {\n",
       "        text-align: right;\n",
       "    }\n",
       "</style>\n",
       "<table border=\"1\" class=\"dataframe\">\n",
       "  <thead>\n",
       "    <tr style=\"text-align: right;\">\n",
       "      <th></th>\n",
       "      <th>y_pred</th>\n",
       "      <th>y_train</th>\n",
       "      <th>diff</th>\n",
       "    </tr>\n",
       "  </thead>\n",
       "  <tbody>\n",
       "    <tr>\n",
       "      <th>2882</th>\n",
       "      <td>-11.7</td>\n",
       "      <td>-0.076804</td>\n",
       "      <td>-151.335298</td>\n",
       "    </tr>\n",
       "    <tr>\n",
       "      <th>11100</th>\n",
       "      <td>-11.7</td>\n",
       "      <td>-0.012228</td>\n",
       "      <td>-955.823528</td>\n",
       "    </tr>\n",
       "    <tr>\n",
       "      <th>16998</th>\n",
       "      <td>-11.7</td>\n",
       "      <td>-0.671378</td>\n",
       "      <td>-16.426838</td>\n",
       "    </tr>\n",
       "    <tr>\n",
       "      <th>22246</th>\n",
       "      <td>-11.7</td>\n",
       "      <td>-0.668160</td>\n",
       "      <td>-16.510781</td>\n",
       "    </tr>\n",
       "    <tr>\n",
       "      <th>24892</th>\n",
       "      <td>-11.7</td>\n",
       "      <td>-0.830873</td>\n",
       "      <td>-13.081572</td>\n",
       "    </tr>\n",
       "    <tr>\n",
       "      <th>36589</th>\n",
       "      <td>-11.7</td>\n",
       "      <td>-0.830873</td>\n",
       "      <td>-13.081572</td>\n",
       "    </tr>\n",
       "    <tr>\n",
       "      <th>40975</th>\n",
       "      <td>-11.7</td>\n",
       "      <td>-0.230108</td>\n",
       "      <td>-49.845693</td>\n",
       "    </tr>\n",
       "    <tr>\n",
       "      <th>47808</th>\n",
       "      <td>-11.7</td>\n",
       "      <td>-0.145140</td>\n",
       "      <td>-79.611941</td>\n",
       "    </tr>\n",
       "    <tr>\n",
       "      <th>49525</th>\n",
       "      <td>34.3</td>\n",
       "      <td>0.516037</td>\n",
       "      <td>-65.468131</td>\n",
       "    </tr>\n",
       "    <tr>\n",
       "      <th>51640</th>\n",
       "      <td>-11.7</td>\n",
       "      <td>-0.211515</td>\n",
       "      <td>-54.315351</td>\n",
       "    </tr>\n",
       "  </tbody>\n",
       "</table>\n",
       "</div>"
      ],
      "text/plain": [
       "       y_pred   y_train        diff\n",
       "2882    -11.7 -0.076804 -151.335298\n",
       "11100   -11.7 -0.012228 -955.823528\n",
       "16998   -11.7 -0.671378  -16.426838\n",
       "22246   -11.7 -0.668160  -16.510781\n",
       "24892   -11.7 -0.830873  -13.081572\n",
       "36589   -11.7 -0.830873  -13.081572\n",
       "40975   -11.7 -0.230108  -49.845693\n",
       "47808   -11.7 -0.145140  -79.611941\n",
       "49525    34.3  0.516037  -65.468131\n",
       "51640   -11.7 -0.211515  -54.315351"
      ]
     },
     "execution_count": 339,
     "metadata": {},
     "output_type": "execute_result"
    }
   ],
   "source": [
    "df_eva[df_eva['diff']<-10]"
   ]
  },
  {
   "cell_type": "code",
   "execution_count": 298,
   "id": "b0e70b71",
   "metadata": {},
   "outputs": [
    {
     "name": "stdout",
     "output_type": "stream",
     "text": [
      "11.768514711161139\n",
      "16.95434152670517\n",
      "0.992420541205173\n",
      "0.13356269171242685\n"
     ]
    }
   ],
   "source": [
    "print(mean_absolute_error(y_test, y_pred))\n",
    "print(mean_squared_error(y_test, y_pred)**0.5)\n",
    "print(r2_score(y_test, y_pred))\n",
    "print(mean_absolute_percentage_error(y_test, y_pred))"
   ]
  },
  {
   "cell_type": "code",
   "execution_count": 290,
   "id": "b170cfe2",
   "metadata": {},
   "outputs": [
    {
     "name": "stdout",
     "output_type": "stream",
     "text": [
      "11.778076448193936\n",
      "16.9708844091413\n",
      "0.9924057429581109\n",
      "0.1298841245290165\n"
     ]
    }
   ],
   "source": [
    "print(mean_absolute_error(y_test, y_pred))\n",
    "print(mean_squared_error(y_test, y_pred)**0.5)\n",
    "print(r2_score(y_test, y_pred))\n",
    "print(mean_absolute_percentage_error(y_test, y_pred))\n"
   ]
  }
 ],
 "metadata": {
  "kernelspec": {
   "display_name": "Python 3 (ipykernel)",
   "language": "python",
   "name": "python3"
  },
  "language_info": {
   "codemirror_mode": {
    "name": "ipython",
    "version": 3
   },
   "file_extension": ".py",
   "mimetype": "text/x-python",
   "name": "python",
   "nbconvert_exporter": "python",
   "pygments_lexer": "ipython3",
   "version": "3.9.12"
  },
  "vscode": {
   "interpreter": {
    "hash": "aee8b7b246df8f9039afb4144a1f6fd8d2ca17a180786b69acc140d282b71a49"
   }
  }
 },
 "nbformat": 4,
 "nbformat_minor": 5
}
