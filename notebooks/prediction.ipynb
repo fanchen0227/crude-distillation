{
 "cells": [
  {
   "cell_type": "code",
   "execution_count": 56,
   "id": "4575f752",
   "metadata": {},
   "outputs": [],
   "source": [
    "import pandas as pd\n",
    "import numpy as np\n",
    "import joblib"
   ]
  },
  {
   "cell_type": "code",
   "execution_count": 108,
   "id": "dda726a9",
   "metadata": {},
   "outputs": [],
   "source": [
    "rfg = joblib.load('random_forest.joblib')\n",
    "df_profile = pd.read_csv(\"crude_profile.csv\")"
   ]
  },
  {
   "cell_type": "code",
   "execution_count": null,
   "id": "34d1037e",
   "metadata": {},
   "outputs": [],
   "source": [
    "def calculate_properties(name1,volume1,name2,volume2):\n",
    "    profile1 = df_profile[df_profile['Name']==name1].iloc[0, :].to_dict()\n",
    "    profile2 = df_profile[df_profile['Name']==name2].iloc[0, :].to_dict()\n",
    "\n",
    "    # assume the volume of the mixture is the sum of the two crude volume.\n",
    "    volume = volume1 + volume2\n",
    "    v_portion1 = volume1 / volume\n",
    "    v_portion2 = volume2 / volume\n",
    "    mass = volume1 * profile1['Absolute Density (kg/m3)'] + volume2 * profile2['Absolute Density (kg/m3)']\n",
    "    m_portion1 = volume1 * profile1['Absolute Density (kg/m3)'] / mass\n",
    "    m_portion2 = volume2 * profile2['Absolute Density (kg/m3)'] / mass\n",
    "\n",
    "    density = mass / volume\n",
    "    gravity = v_portion1 * profile1['Gravity (&degAPI)'] + v_portion2 * profile2['Gravity (&degAPI)']\n",
    "    sulphur =  m_portion1 * profile1['Sulphur (wt%)'] + m_portion2 * profile2['Sulphur (wt%)']\n",
    "    mcr =  m_portion1 * profile1['MCR (wt%)'] + m_portion2 * profile2['MCR (wt%)']\n",
    "    sediment = m_portion1 * profile1['Sediment (ppmw)'] + m_portion2 * profile2['Sediment (ppmw)']\n",
    "    tan = m_portion1 * profile1['TAN (mgKOH/g)'] + m_portion2 * profile2['TAN (mgKOH/g)']\n",
    "    salt = v_portion1 * profile1['Salt (ptb)'] + v_portion2 * profile2['Salt (ptb)']\n",
    "    nickel = m_portion1 * profile1['Nickel (mg/kg)'] + m_portion2 * profile2['Nickel (mg/kg)']\n",
    "    vanadium = m_portion1 * profile1['Vanadium (mg/kg)'] + m_portion2 * profile2['Vanadium (mg/kg)']\n",
    "    c2 = v_portion1 * profile1['C2 Ethane (vol%)'] + v_portion2 * profile2['C2 Ethane (vol%)']\n",
    "    c3 = v_portion1 * profile1['C3 Propane (vol%)'] + v_portion2 * profile2['C3 Propane (vol%)']\n",
    "    c4i = v_portion1 * profile1['iC4 iso-Butane (vol%)'] + v_portion2 * profile2['iC4 iso-Butane (vol%)']\n",
    "    c4n = v_portion1 * profile1['nC4 n-Butane (vol%)'] + v_portion2 * profile2['nC4 n-Butane (vol%)']\n",
    "    c5i = v_portion1 * profile1['iC5 iso-Pentane (vol%)'] + v_portion2 * profile2['iC5 iso-Pentane (vol%)']\n",
    "    c5n = v_portion1 * profile1['nC5 n-Pentane (vol%)'] + v_portion2 * profile2['nC5 n-Pentane (vol%)']\n",
    "    c6 = v_portion1 * profile1['C6 Hexanes (vol%)'] + v_portion2 * profile2['C6 Hexanes (vol%)']\n",
    "    c7 = v_portion1 * profile1['C7 Heptanes (vol%)'] + v_portion2 * profile2['C7 Heptanes (vol%)']\n",
    "    c8 = v_portion1 * profile1['C8 Octanes (vol%)'] + v_portion2 * profile2['C8 Octanes (vol%)']\n",
    "    c9 = v_portion1 * profile1['C9 Nonanes (vol%)'] + v_portion2 * profile2['C9 Nonanes (vol%)']\n",
    "    c10 = v_portion1 * profile1['C9 Nonanes (vol%)'] + v_portion2 * profile2['C9 Nonanes (vol%)']\n",
    "\n",
    "    x_pred = [density, gravity, sulphur, mcr, sediment, tan, salt, nickel, vanadium,\n",
    "             c2, c3, c4i, c4n, c5i, c5n, c6, c7, c8, c9, c10]\n",
    "\n",
    "    df_x_pred = pd.DataFrame(np.array(x_pred*21).reshape(21,-1))\n",
    "    df_x_pred.columns = df_profile.columns[:-1]\n",
    "\n",
    "    mass_list = list(range(0,100,5))\n",
    "    mass_list.append(99)\n",
    "    df_x_pred['%mass'] = np.array(mass_list).reshape(21,1)\n",
    "\n",
    "    rfg.predict(df_x_pred)"
   ]
  },
  {
   "cell_type": "code",
   "execution_count": 37,
   "id": "a12e622f",
   "metadata": {},
   "outputs": [],
   "source": [
    "name1 = \"Pembina\"\n",
    "name2 = \"Fort Hills Dilbit\"\n",
    "volume1 = 1\n",
    "volume2 = 1"
   ]
  },
  {
   "cell_type": "code",
   "execution_count": 32,
   "id": "08cd6764",
   "metadata": {},
   "outputs": [],
   "source": [
    "profile1 = df_profile[df_profile['Name']==name1].iloc[0, :].to_dict()\n",
    "profile2 = df_profile[df_profile['Name']==name2].iloc[0, :].to_dict()"
   ]
  },
  {
   "cell_type": "code",
   "execution_count": 43,
   "id": "60dc9eba",
   "metadata": {},
   "outputs": [],
   "source": [
    "# assume the volume of the mixture is the sum of the two crude volume.\n",
    "volume = volume1 + volume2\n",
    "v_portion1 = volume1 / volume\n",
    "v_portion2 = volume2 / volume\n",
    "mass = volume1 * profile1['Absolute Density (kg/m3)'] + volume2 * profile2['Absolute Density (kg/m3)']\n",
    "m_portion1 = volume1 * profile1['Absolute Density (kg/m3)'] / mass\n",
    "m_portion2 = volume2 * profile2['Absolute Density (kg/m3)'] / mass\n",
    "\n",
    "density = mass / volume\n",
    "gravity = v_portion1 * profile1['Gravity (&degAPI)'] + v_portion2 * profile2['Gravity (&degAPI)']\n",
    "sulphur =  m_portion1 * profile1['Sulphur (wt%)'] + m_portion2 * profile2['Sulphur (wt%)']\n",
    "mcr =  m_portion1 * profile1['MCR (wt%)'] + m_portion2 * profile2['MCR (wt%)']\n",
    "sediment = m_portion1 * profile1['Sediment (ppmw)'] + m_portion2 * profile2['Sediment (ppmw)']\n",
    "tan = m_portion1 * profile1['TAN (mgKOH/g)'] + m_portion2 * profile2['TAN (mgKOH/g)']\n",
    "salt = v_portion1 * profile1['Salt (ptb)'] + v_portion2 * profile2['Salt (ptb)']\n",
    "nickel = m_portion1 * profile1['Nickel (mg/kg)'] + m_portion2 * profile2['Nickel (mg/kg)']\n",
    "vanadium = m_portion1 * profile1['Vanadium (mg/kg)'] + m_portion2 * profile2['Vanadium (mg/kg)']\n",
    "c2 = v_portion1 * profile1['C2 Ethane (vol%)'] + v_portion2 * profile2['C2 Ethane (vol%)']\n",
    "c3 = v_portion1 * profile1['C3 Propane (vol%)'] + v_portion2 * profile2['C3 Propane (vol%)']\n",
    "c4i = v_portion1 * profile1['iC4 iso-Butane (vol%)'] + v_portion2 * profile2['iC4 iso-Butane (vol%)']\n",
    "c4n = v_portion1 * profile1['nC4 n-Butane (vol%)'] + v_portion2 * profile2['nC4 n-Butane (vol%)']\n",
    "c5i = v_portion1 * profile1['iC5 iso-Pentane (vol%)'] + v_portion2 * profile2['iC5 iso-Pentane (vol%)']\n",
    "c5n = v_portion1 * profile1['nC5 n-Pentane (vol%)'] + v_portion2 * profile2['nC5 n-Pentane (vol%)']\n",
    "c6 = v_portion1 * profile1['C6 Hexanes (vol%)'] + v_portion2 * profile2['C6 Hexanes (vol%)']\n",
    "c7 = v_portion1 * profile1['C7 Heptanes (vol%)'] + v_portion2 * profile2['C7 Heptanes (vol%)']\n",
    "c8 = v_portion1 * profile1['C8 Octanes (vol%)'] + v_portion2 * profile2['C8 Octanes (vol%)']\n",
    "c9 = v_portion1 * profile1['C9 Nonanes (vol%)'] + v_portion2 * profile2['C9 Nonanes (vol%)']\n",
    "c10 = v_portion1 * profile1['C9 Nonanes (vol%)'] + v_portion2 * profile2['C9 Nonanes (vol%)']\n",
    "\n",
    "x_pred = [density, gravity, sulphur, mcr, sediment, tan, salt, nickel, vanadium,\n",
    "         c2, c3, c4i, c4n, c5i, c5n, c6, c7, c8, c9, c10]"
   ]
  },
  {
   "cell_type": "code",
   "execution_count": 106,
   "id": "ef199b87",
   "metadata": {},
   "outputs": [],
   "source": [
    "# np.hstack((np.array(x_pred*21).reshape(21,-1), np.array(mass_list).reshape(21,1)))"
   ]
  },
  {
   "cell_type": "code",
   "execution_count": 85,
   "id": "8996f731",
   "metadata": {},
   "outputs": [],
   "source": [
    "df_x_pred = pd.DataFrame(np.array(x_pred*21).reshape(21,-1))\n",
    "df_x_pred.columns = df_profile.columns[:-1]\n",
    "\n",
    "mass_list = list(range(0,100,5))\n",
    "mass_list.append(99)\n",
    "df_x_pred['%mass'] = np.array(mass_list).reshape(21,1)"
   ]
  },
  {
   "cell_type": "code",
   "execution_count": 109,
   "id": "60fec17f",
   "metadata": {},
   "outputs": [
    {
     "data": {
      "text/plain": [
       "array([ 31.242321  ,  43.29641341,  92.11234904, 118.04084877,\n",
       "       153.23736424, 176.72090877, 214.3970963 , 248.90133438,\n",
       "       276.55778384, 332.38854111, 366.21829764, 411.118121  ,\n",
       "       428.1001544 , 457.2191745 , 491.24149158, 532.11725274,\n",
       "       588.43242043, 637.32417985, 688.63543744, 687.08548103,\n",
       "       687.88266866])"
      ]
     },
     "execution_count": 109,
     "metadata": {},
     "output_type": "execute_result"
    }
   ],
   "source": [
    "rfg.predict(df_x_pred)"
   ]
  },
  {
   "cell_type": "code",
   "execution_count": null,
   "id": "b9e72b1f",
   "metadata": {},
   "outputs": [],
   "source": [
    "http://127.0.0.1:8080/?name1=Pembina&volume1=1&name2=Cold_Lake&volume2=1"
   ]
  },
  {
   "cell_type": "code",
   "execution_count": 35,
   "id": "2ae45c6a",
   "metadata": {},
   "outputs": [
    {
     "data": {
      "text/plain": [
       "{'Absolute Density (kg/m3)': 825.1,\n",
       " 'Gravity (&degAPI)': 39.9,\n",
       " 'Sulphur (wt%)': 0.41,\n",
       " 'MCR (wt%)': 1.9,\n",
       " 'Sediment (ppmw)': 0.0,\n",
       " 'TAN (mgKOH/g)': 0.0,\n",
       " 'Salt (ptb)': 0.0,\n",
       " 'Nickel (mg/kg)': 4.5,\n",
       " 'Vanadium (mg/kg)': 9.6,\n",
       " 'C2 Ethane (vol%)': 0.02,\n",
       " 'C3 Propane (vol%)': 0.42,\n",
       " 'iC4 iso-Butane (vol%)': 1.03,\n",
       " 'nC4 n-Butane (vol%)': 2.62,\n",
       " 'iC5 iso-Pentane (vol%)': 1.4,\n",
       " 'nC5 n-Pentane (vol%)': 1.82,\n",
       " 'C6 Hexanes (vol%)': 5.85,\n",
       " 'C7 Heptanes (vol%)': 7.18,\n",
       " 'C8 Octanes (vol%)': 7.0,\n",
       " 'C9 Nonanes (vol%)': 6.29,\n",
       " 'C10 Decanes (vol%)': 3.58,\n",
       " 'Name': 'Pembina'}"
      ]
     },
     "execution_count": 35,
     "metadata": {},
     "output_type": "execute_result"
    }
   ],
   "source": [
    "profile1"
   ]
  }
 ],
 "metadata": {
  "kernelspec": {
   "display_name": "Python 3 (ipykernel)",
   "language": "python",
   "name": "python3"
  },
  "language_info": {
   "codemirror_mode": {
    "name": "ipython",
    "version": 3
   },
   "file_extension": ".py",
   "mimetype": "text/x-python",
   "name": "python",
   "nbconvert_exporter": "python",
   "pygments_lexer": "ipython3",
   "version": "3.9.12"
  },
  "vscode": {
   "interpreter": {
    "hash": "aee8b7b246df8f9039afb4144a1f6fd8d2ca17a180786b69acc140d282b71a49"
   }
  }
 },
 "nbformat": 4,
 "nbformat_minor": 5
}
