{
 "cells": [
  {
   "cell_type": "code",
   "execution_count": 18,
   "id": "4575f752",
   "metadata": {},
   "outputs": [],
   "source": [
    "import pandas as pd\n",
    "import numpy as np\n",
    "import joblib"
   ]
  },
  {
   "cell_type": "code",
   "execution_count": 19,
   "id": "dda726a9",
   "metadata": {},
   "outputs": [],
   "source": [
    "rfg = joblib.load('../src/model/random_forest.joblib')\n",
    "df_profile = pd.read_csv(\"../src/data/crude_profile.csv\")"
   ]
  },
  {
   "cell_type": "markdown",
   "id": "af6d0c25",
   "metadata": {},
   "source": [
    "# Calculate properties of the mixture"
   ]
  },
  {
   "cell_type": "code",
   "execution_count": 20,
   "id": "34d1037e",
   "metadata": {},
   "outputs": [],
   "source": [
    "def calculate_properties(name1, volume1, name2, volume2):\n",
    "    \"\"\"\n",
    "    Function that calculates and returns the phisical properties of mixture as a dictionary\n",
    "\n",
    "    Args:\n",
    "        name1: the name of the crude 1. The upper case matters.\n",
    "        volume1: the volume of the crude 1 added - unit liters.\n",
    "        name2: the name of the crude 2. The upper case matters.\n",
    "        volume2: the volume of the crude 2 added - unit liters.\n",
    "    Returns:\n",
    "        The array of the phisical properies of the mixture. (x_pred)\n",
    "    \"\"\"\n",
    "    profile1 = df_profile[df_profile['Name']==name1].iloc[0, :].to_dict()\n",
    "    profile2 = df_profile[df_profile['Name']==name2].iloc[0, :].to_dict()\n",
    "    \n",
    "    x_pred = {}\n",
    "\n",
    "    # Assume the volume of the mixture is the sum of the two crude volume.\n",
    "    volume = volume1 + volume2\n",
    "    v_portion1 = volume1 / volume\n",
    "    v_portion2 = volume2 / volume\n",
    "    mass = volume1 * profile1['Absolute Density (kg/m3)'] + volume2 * profile2['Absolute Density (kg/m3)']\n",
    "    m_portion1 = volume1 * profile1['Absolute Density (kg/m3)'] / mass\n",
    "    m_portion2 = volume2 * profile2['Absolute Density (kg/m3)'] / mass\n",
    "    \n",
    "    # Calculating the phiscial properties of the mixture. (x_pred) \n",
    "    x_pred['Absolute Density (kg/m3)'] = mass / volume\n",
    "    x_pred['Gravity (&degAPI)'] = v_portion1 * profile1['Gravity (&degAPI)'] + v_portion2 * profile2['Gravity (&degAPI)']\n",
    "    x_pred['Sulphur (wt%)'] =  m_portion1 * profile1['Sulphur (wt%)'] + m_portion2 * profile2['Sulphur (wt%)']\n",
    "    x_pred['MCR (wt%)'] =  m_portion1 * profile1['MCR (wt%)'] + m_portion2 * profile2['MCR (wt%)']\n",
    "    x_pred['Sediment (ppmw)'] = m_portion1 * profile1['Sediment (ppmw)'] + m_portion2 * profile2['Sediment (ppmw)']\n",
    "    x_pred['TAN (mgKOH/g)'] = m_portion1 * profile1['TAN (mgKOH/g)'] + m_portion2 * profile2['TAN (mgKOH/g)']\n",
    "    x_pred['Salt (ptb)'] = v_portion1 * profile1['Salt (ptb)'] + v_portion2 * profile2['Salt (ptb)']\n",
    "    x_pred['Nickel (mg/kg)'] = m_portion1 * profile1['Nickel (mg/kg)'] + m_portion2 * profile2['Nickel (mg/kg)']\n",
    "    x_pred['Vanadium (mg/kg)']  = m_portion1 * profile1['Vanadium (mg/kg)'] + m_portion2 * profile2['Vanadium (mg/kg)']\n",
    "    x_pred['C2 Ethane (vol%)'] = v_portion1 * profile1['C2 Ethane (vol%)'] + v_portion2 * profile2['C2 Ethane (vol%)']\n",
    "    x_pred['C3 Propane (vol%)'] = v_portion1 * profile1['C3 Propane (vol%)'] + v_portion2 * profile2['C3 Propane (vol%)']\n",
    "    x_pred['iC4 iso-Butane (vol%)'] = v_portion1 * profile1['iC4 iso-Butane (vol%)'] + v_portion2 * profile2['iC4 iso-Butane (vol%)']\n",
    "    x_pred['nC4 n-Butane (vol%)'] = v_portion1 * profile1['nC4 n-Butane (vol%)'] + v_portion2 * profile2['nC4 n-Butane (vol%)']\n",
    "    x_pred['iC5 iso-Pentane (vol%)'] = v_portion1 * profile1['iC5 iso-Pentane (vol%)'] + v_portion2 * profile2['iC5 iso-Pentane (vol%)']\n",
    "    x_pred['nC5 n-Pentane (vol%)'] = v_portion1 * profile1['nC5 n-Pentane (vol%)'] + v_portion2 * profile2['nC5 n-Pentane (vol%)']\n",
    "    x_pred['C6 Hexanes (vol%)'] = v_portion1 * profile1['C6 Hexanes (vol%)'] + v_portion2 * profile2['C6 Hexanes (vol%)']\n",
    "    x_pred['C7 Heptanes (vol%)'] = v_portion1 * profile1['C7 Heptanes (vol%)'] + v_portion2 * profile2['C7 Heptanes (vol%)']\n",
    "    x_pred['C8 Octanes (vol%)'] = v_portion1 * profile1['C8 Octanes (vol%)'] + v_portion2 * profile2['C8 Octanes (vol%)']\n",
    "    x_pred['C9 Nonanes (vol%)'] = v_portion1 * profile1['C9 Nonanes (vol%)'] + v_portion2 * profile2['C9 Nonanes (vol%)']\n",
    "    x_pred['C10 Decanes (vol%)'] = v_portion1 * profile1['C10 Decanes (vol%)'] + v_portion2 * profile2['C10 Decanes (vol%)']\n",
    "\n",
    "    return x_pred"
   ]
  },
  {
   "cell_type": "markdown",
   "id": "13822645",
   "metadata": {},
   "source": [
    "# Predict function"
   ]
  },
  {
   "cell_type": "code",
   "execution_count": 21,
   "id": "6f5f14ba",
   "metadata": {},
   "outputs": [],
   "source": [
    "def predict(name1, volume1, name2, volume2):\n",
    "    \"\"\"\n",
    "    Function that returns the dictionary distillation profile of the mixture\n",
    "\n",
    "    Args:\n",
    "        name1: the name of the crude 1. The upper case matters.\n",
    "        volume1: the volume of the crude 1 added - unit liters.\n",
    "        name2: the name of the crude 2. The upper case matters.\n",
    "        volume2: the volume of the crude 2 added - unit liters.\n",
    "    Returns:\n",
    "        the dicrionary of distillation profile of the mixture\n",
    "        \n",
    "    \"\"\"\n",
    "    # get the array of the phisical properies of the mixture.\n",
    "    x_pred = calculate_properties(name1, volume1, name2, volume2)\n",
    "\n",
    "    # generate the x_predict. \n",
    "    df_x_pred = pd.DataFrame([x_pred]*21)\n",
    "    mass_list = list(range(0,100,5))\n",
    "    mass_list.append(99)\n",
    "    df_x_pred['%mass'] = np.array(mass_list).reshape(21,1)\n",
    "\n",
    "    # predict and record the result as a dictionary for further consume\n",
    "    y_predict = rfg.predict(df_x_pred)\n",
    "    result = {}\n",
    "    for i, mass in enumerate(mass_list):\n",
    "        result[mass] = y_predict[i]\n",
    "\n",
    "    return result\n"
   ]
  },
  {
   "cell_type": "markdown",
   "id": "4d5a890c",
   "metadata": {},
   "source": [
    "# Testing"
   ]
  },
  {
   "cell_type": "code",
   "execution_count": 26,
   "id": "a12e622f",
   "metadata": {},
   "outputs": [],
   "source": [
    "name1 = \"Pembina\"\n",
    "name2 = \"Fort Hills Dilbit\"\n",
    "volume1 = 1\n",
    "volume2 = 2"
   ]
  },
  {
   "cell_type": "code",
   "execution_count": 27,
   "id": "9a400c3b",
   "metadata": {},
   "outputs": [
    {
     "data": {
      "text/plain": [
       "{0: 33.52635942231842,\n",
       " 5: 42.95006919960102,\n",
       " 10: 91.89590225426404,\n",
       " 15: 124.74253491902705,\n",
       " 20: 191.44380083652712,\n",
       " 25: 231.57100104051221,\n",
       " 30: 266.90110399935054,\n",
       " 35: 309.5176343336387,\n",
       " 40: 339.49336960686577,\n",
       " 45: 369.0569058315183,\n",
       " 50: 398.8645265782049,\n",
       " 55: 434.15563211687135,\n",
       " 60: 457.06703079745387,\n",
       " 65: 498.524970390015,\n",
       " 70: 519.5131669195096,\n",
       " 75: 582.2044089899,\n",
       " 80: 662.0301068838808,\n",
       " 85: 689.3668657892252,\n",
       " 90: 694.8134731636409,\n",
       " 95: 694.9584743912367,\n",
       " 99: 695.0279118912367}"
      ]
     },
     "execution_count": 27,
     "metadata": {},
     "output_type": "execute_result"
    }
   ],
   "source": [
    "y_pred = predict(name1, volume1, name2, volume2)\n",
    "y_pred"
   ]
  },
  {
   "cell_type": "code",
   "execution_count": 28,
   "id": "59dc3d31",
   "metadata": {},
   "outputs": [
    {
     "data": {
      "text/plain": [
       "<AxesSubplot:>"
      ]
     },
     "execution_count": 28,
     "metadata": {},
     "output_type": "execute_result"
    },
    {
     "data": {
      "image/png": "[encoded data removed]",
      "text/plain": [
       "<Figure size 432x288 with 1 Axes>"
      ]
     },
     "metadata": {
      "needs_background": "light"
     },
     "output_type": "display_data"
    }
   ],
   "source": [
    "df_pred = pd.DataFrame([y_pred]).T\n",
    "df_pred.columns = ['temperature']\n",
    "df_pred.plot()"
   ]
  },
  {
   "cell_type": "code",
   "execution_count": 106,
   "id": "ef199b87",
   "metadata": {},
   "outputs": [],
   "source": [
    "# np.hstack((np.array(x_pred*21).reshape(21,-1), np.array(mass_list).reshape(21,1)))"
   ]
  }
 ],
 "metadata": {
  "kernelspec": {
   "display_name": "Python 3 (ipykernel)",
   "language": "python",
   "name": "python3"
  },
  "language_info": {
   "codemirror_mode": {
    "name": "ipython",
    "version": 3
   },
   "file_extension": ".py",
   "mimetype": "text/x-python",
   "name": "python",
   "nbconvert_exporter": "python",
   "pygments_lexer": "ipython3",
   "version": "3.9.12"
  },
  "vscode": {
   "interpreter": {
    "hash": "aee8b7b246df8f9039afb4144a1f6fd8d2ca17a180786b69acc140d282b71a49"
   }
  }
 },
 "nbformat": 4,
 "nbformat_minor": 5
}
